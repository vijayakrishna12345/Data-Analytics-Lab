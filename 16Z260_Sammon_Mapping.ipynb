{
  "nbformat": 4,
  "nbformat_minor": 0,
  "metadata": {
    "colab": {
      "name": "16Z260:Sammon Mapping.ipynb",
      "provenance": [],
      "include_colab_link": true
    },
    "kernelspec": {
      "name": "python3",
      "display_name": "Python 3"
    }
  },
  "cells": [
    {
      "cell_type": "markdown",
      "metadata": {
        "id": "view-in-github",
        "colab_type": "text"
      },
      "source": [
        "<a href=\"https://colab.research.google.com/github/vijayakrishna12345/Data-Analytics-Lab/blob/master/16Z260_Sammon_Mapping.ipynb\" target=\"_parent\"><img src=\"https://colab.research.google.com/assets/colab-badge.svg\" alt=\"Open In Colab\"/></a>"
      ]
    },
    {
      "cell_type": "code",
      "metadata": {
        "id": "z42oM67M-Ir3",
        "colab_type": "code",
        "colab": {
          "base_uri": "https://localhost:8080/",
          "height": 606
        },
        "outputId": "75658aed-56fc-4f61-e13d-752476c8eb9d"
      },
      "source": [
        "import pandas as pd \n",
        "t1=[1,2,2,3]\n",
        "t2=[1,1,2,2]\n",
        "dataCols={'x':t1,'y':t2}\n",
        "df = pd.DataFrame(data=dataCols)\n",
        "df\n",
        "\n",
        "import matplotlib.pyplot as plot\n",
        "import numpy as np\n",
        "x = np.array(df['x'])\n",
        "y = np.array(df['y'])\n",
        "plot.scatter(x,y,s = 10)\n",
        "plot.show()\n",
        "\n",
        "meanx=np.mean(x)\n",
        "meany=np.mean(y)\n",
        "for li in df.columns:\n",
        "  df[li]=df[li]-df[li].mean()\n",
        "df\n",
        "\n",
        "x = np.array(df['x'])\n",
        "y = np.array(df['y'])\n",
        "plot.scatter(x,y,s = 10)\n",
        "plot.show()\n",
        "\n",
        "xnew=np.array(df['x'])\n",
        "ynew=np.array(df['y'])\n",
        "x=np.vstack((xnew,ynew)).T\n",
        "x\n",
        "\n",
        "transpose=np.transpose(x)\n",
        "transpose\n",
        "\n",
        "dot=x.dot(transpose)\n",
        "dot\n",
        "\n",
        "eigenval, eigenvect = np.linalg.eig(dot) \n",
        "print( \"Eigen values \",eigenval)\n",
        "print( \"Eigen vectors\",eigenvect)\n",
        "\n"
      ],
      "execution_count": 1,
      "outputs": [
        {
          "output_type": "display_data",
          "data": {
            "image/png": "[encoded data removed]",
            "text/plain": [
              "<Figure size 432x288 with 1 Axes>"
            ]
          },
          "metadata": {
            "tags": []
          }
        },
        {
          "output_type": "display_data",
          "data": {
            "image/png": "[encoded data removed]",
            "text/plain": [
              "<Figure size 432x288 with 1 Axes>"
            ]
          },
          "metadata": {
            "tags": []
          }
        },
        {
          "output_type": "stream",
          "text": [
            "Eigen values  [ 2.61803399e+00  3.81966011e-01 -9.45799730e-17 -2.55373581e-17]\n",
            "Eigen vectors [[-0.68819096  0.16245985  0.67618941  0.02708022]\n",
            " [-0.16245985 -0.68819096  0.20680399  0.70658804]\n",
            " [ 0.16245985  0.68819096  0.20680399  0.70658804]\n",
            " [ 0.68819096 -0.16245985  0.67618941  0.02708022]]\n"
          ],
          "name": "stdout"
        }
      ]
    },
    {
      "cell_type": "code",
      "metadata": {
        "id": "4DBiSS7B_DxQ",
        "colab_type": "code",
        "colab": {}
      },
      "source": [
        ""
      ],
      "execution_count": 0,
      "outputs": []
    },
    {
      "cell_type": "code",
      "metadata": {
        "id": "pXFv4FEi-SoU",
        "colab_type": "code",
        "colab": {}
      },
      "source": [
        ""
      ],
      "execution_count": 0,
      "outputs": []
    }
  ]
}