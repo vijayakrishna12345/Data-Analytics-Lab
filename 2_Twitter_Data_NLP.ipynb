{
  "nbformat": 4,
  "nbformat_minor": 0,
  "metadata": {
    "colab": {
      "name": "2. Twitter Data NLP.ipynb",
      "version": "0.3.2",
      "provenance": [],
      "include_colab_link": true
    },
    "kernelspec": {
      "name": "python3",
      "display_name": "Python 3"
    }
  },
  "cells": [
    {
      "cell_type": "markdown",
      "metadata": {
        "id": "view-in-github",
        "colab_type": "text"
      },
      "source": [
        "<a href=\"https://colab.research.google.com/github/vijayakrishna12345/Data-Analytics-Lab/blob/master/2_Twitter_Data_NLP.ipynb\" target=\"_parent\"><img src=\"https://colab.research.google.com/assets/colab-badge.svg\" alt=\"Open In Colab\"/></a>"
      ]
    },
    {
      "cell_type": "code",
      "metadata": {
        "id": "qtkonufAVkq_",
        "colab_type": "code",
        "outputId": "ee4830d7-5026-44c1-87cd-062c89d23ed5",
        "colab": {
          "base_uri": "https://localhost:8080/",
          "height": 1000
        }
      },
      "source": [
        "import csv\n",
        "import pandas as pd\n",
        "import nltk\n",
        "dataset = []\n",
        "with open('/content/gdrive/My Drive/hashTagsDataSet.csv' , 'r',encoding='utf-8') as f:\n",
        "    #print(\"hi\")\n",
        "    csv_reader = csv.reader(f)\n",
        " \n",
        "    for line in csv_reader:\n",
        "        dataset.extend(line)\n",
        "dataset"
      ],
      "execution_count": 0,
      "outputs": [
        {
          "output_type": "execute_result",
          "data": {
            "text/plain": [
              "['#TheBachelorette',\n",
              " '#CancelStudentDebt',\n",
              " '#BETAwards',\n",
              " '#NBAAwards',\n",
              " '#TheHillsNewBeginnings',\n",
              " '#ATEEZ_ASC',\n",
              " '#TextsFromSatan',\n",
              " '#FearTheDeer',\n",
              " '#GoBlue',\n",
              " '#TheInvestigation',\n",
              " '#arirang_ASC',\n",
              " '#NBAMVP',\n",
              " '#LegionFX',\n",
              " '#ItsAlwaysHardToGet',\n",
              " '#BelowDeckMed',\n",
              " '#Bucks',\n",
              " '#FireKietzman',\n",
              " '#PotLuckCrimes',\n",
              " '#LHHATL',\n",
              " '#bachlorette',\n",
              " '#IsARipOff',\n",
              " '#LukeP',\n",
              " '#TempleTerrorAttack',\n",
              " '#MumbaiRainlive',\n",
              " '#TuesdayThoughts',\n",
              " '#INDvBAN',\n",
              " '#1MForNVNNTrailer',\n",
              " '#Tejas',\n",
              " '#Gurdaspur',\n",
              " '#Union Territories',\n",
              " '#Hauz Qazi',\n",
              " '#Nalasopara',\n",
              " '#Know More',\n",
              " '#Cox & Kings',\n",
              " '#Western Railway',\n",
              " '#Western Express Highway',\n",
              " '#TirangaInJaisalmer',\n",
              " '#StopHydrocarbonNotCauvery',\n",
              " '#TipsToCherishGoodHealth',\n",
              " '#KKTrailerFromTomorrow',\n",
              " '#SunnyDeol',\n",
              " '#Media420',\n",
              " '#savingsaccount',\n",
              " '#KodandaramiReddy',\n",
              " '#Jagannath',\n",
              " '#HappyBirthdayGanesh',\n",
              " '#cash',\n",
              " '#ZoyaAkhtar',\n",
              " '#BowBow',\n",
              " '#VikatanMedai',\n",
              " '#WeLoveDuke',\n",
              " '#Kanchana3',\n",
              " '#GalaxyNote10',\n",
              " '#lovingharryparty',\n",
              " '#shirleysetia',\n",
              " '#RaatchasiIn3Days',\n",
              " '#VenkyMama',\n",
              " '#CloudComputing',\n",
              " '#venuswilliams',\n",
              " '#Rupee',\n",
              " '#WRUpdates',\n",
              " '#GuesstheChampion',\n",
              " '#TheBachelorette',\n",
              " '#ImpeachNow',\n",
              " '#RickyRenucia',\n",
              " '#GirlsCruise',\n",
              " '#DemigodClaim',\n",
              " '#RacistGOP',\n",
              " '#ThingsYoullNeverSeeMeDo',\n",
              " '#IceBae',\n",
              " '#TheSquad',\n",
              " '#OverheardAtStarWarsCantina',\n",
              " '#SummerSlam',\n",
              " '#LHHATL',\n",
              " '#GrandHotel',\n",
              " '#BattleRoyal',\n",
              " '#WWERaw',\n",
              " '#BelowDeckMed',\n",
              " '#90DayFianceTheOtherWay',\n",
              " '#ATOBTTR',\n",
              " '#FlavorTownOrdinances',\n",
              " '#CouldYouPleaseFix',\n",
              " '#LSSC',\n",
              " '#LegionFX',\n",
              " '#Fatal4Way',\n",
              " '#FinalSpace']"
            ]
          },
          "metadata": {
            "tags": []
          },
          "execution_count": 18
        }
      ]
    },
    {
      "cell_type": "code",
      "metadata": {
        "id": "ZNG0RHFaWLid",
        "colab_type": "code",
        "outputId": "5e6608fd-bf4a-4e2d-9b85-0ebd7953e7b1",
        "colab": {
          "base_uri": "https://localhost:8080/",
          "height": 1000
        }
      },
      "source": [
        "import re\n",
        "tokenized = []\n",
        "for eachTrend in dataset:\n",
        "    var = re.match(r'#[a-zA-Z0-9]*',eachTrend)\n",
        "    tokenized.extend(var[0][1:].split(\" \"))\n",
        "tokenized"
      ],
      "execution_count": 0,
      "outputs": [
        {
          "output_type": "execute_result",
          "data": {
            "text/plain": [
              "['TheBachelorette',\n",
              " 'CancelStudentDebt',\n",
              " 'BETAwards',\n",
              " 'NBAAwards',\n",
              " 'TheHillsNewBeginnings',\n",
              " 'ATEEZ',\n",
              " 'TextsFromSatan',\n",
              " 'FearTheDeer',\n",
              " 'GoBlue',\n",
              " 'TheInvestigation',\n",
              " 'arirang',\n",
              " 'NBAMVP',\n",
              " 'LegionFX',\n",
              " 'ItsAlwaysHardToGet',\n",
              " 'BelowDeckMed',\n",
              " 'Bucks',\n",
              " 'FireKietzman',\n",
              " 'PotLuckCrimes',\n",
              " 'LHHATL',\n",
              " 'bachlorette',\n",
              " 'IsARipOff',\n",
              " 'LukeP',\n",
              " 'TempleTerrorAttack',\n",
              " 'MumbaiRainlive',\n",
              " 'TuesdayThoughts',\n",
              " 'INDvBAN',\n",
              " '1MForNVNNTrailer',\n",
              " 'Tejas',\n",
              " 'Gurdaspur',\n",
              " 'Union',\n",
              " 'Hauz',\n",
              " 'Nalasopara',\n",
              " 'Know',\n",
              " 'Cox',\n",
              " 'Western',\n",
              " 'Western',\n",
              " 'TirangaInJaisalmer',\n",
              " 'StopHydrocarbonNotCauvery',\n",
              " 'TipsToCherishGoodHealth',\n",
              " 'KKTrailerFromTomorrow',\n",
              " 'SunnyDeol',\n",
              " 'Media420',\n",
              " 'savingsaccount',\n",
              " 'KodandaramiReddy',\n",
              " 'Jagannath',\n",
              " 'HappyBirthdayGanesh',\n",
              " 'cash',\n",
              " 'ZoyaAkhtar',\n",
              " 'BowBow',\n",
              " 'VikatanMedai',\n",
              " 'WeLoveDuke',\n",
              " 'Kanchana3',\n",
              " 'GalaxyNote10',\n",
              " 'lovingharryparty',\n",
              " 'shirleysetia',\n",
              " 'RaatchasiIn3Days',\n",
              " 'VenkyMama',\n",
              " 'CloudComputing',\n",
              " 'venuswilliams',\n",
              " 'Rupee',\n",
              " 'WRUpdates',\n",
              " 'GuesstheChampion',\n",
              " 'TheBachelorette',\n",
              " 'ImpeachNow',\n",
              " 'RickyRenucia',\n",
              " 'GirlsCruise',\n",
              " 'DemigodClaim',\n",
              " 'RacistGOP',\n",
              " 'ThingsYoullNeverSeeMeDo',\n",
              " 'IceBae',\n",
              " 'TheSquad',\n",
              " 'OverheardAtStarWarsCantina',\n",
              " 'SummerSlam',\n",
              " 'LHHATL',\n",
              " 'GrandHotel',\n",
              " 'BattleRoyal',\n",
              " 'WWERaw',\n",
              " 'BelowDeckMed',\n",
              " '90DayFianceTheOtherWay',\n",
              " 'ATOBTTR',\n",
              " 'FlavorTownOrdinances',\n",
              " 'CouldYouPleaseFix',\n",
              " 'LSSC',\n",
              " 'LegionFX',\n",
              " 'Fatal4Way',\n",
              " 'FinalSpace']"
            ]
          },
          "metadata": {
            "tags": []
          },
          "execution_count": 19
        }
      ]
    },
    {
      "cell_type": "code",
      "metadata": {
        "id": "nYs4OsP_XAsU",
        "colab_type": "code",
        "outputId": "cebe5caa-456d-44b6-b73f-c694356812e9",
        "colab": {
          "base_uri": "https://localhost:8080/",
          "height": 1000
        }
      },
      "source": [
        "from nltk import PorterStemmer\n",
        "nltk.download(\"punkt\")\n",
        "ps = PorterStemmer()\n",
        "list1 = []  \n",
        "for i in dataset:\n",
        "  list1.append(nltk.word_tokenize(i)[1])\n",
        "list1"
      ],
      "execution_count": 0,
      "outputs": [
        {
          "output_type": "stream",
          "text": [
            "[nltk_data] Downloading package punkt to /root/nltk_data...\n",
            "[nltk_data]   Package punkt is already up-to-date!\n"
          ],
          "name": "stdout"
        },
        {
          "output_type": "execute_result",
          "data": {
            "text/plain": [
              "['TheBachelorette',\n",
              " 'CancelStudentDebt',\n",
              " 'BETAwards',\n",
              " 'NBAAwards',\n",
              " 'TheHillsNewBeginnings',\n",
              " 'ATEEZ_ASC',\n",
              " 'TextsFromSatan',\n",
              " 'FearTheDeer',\n",
              " 'GoBlue',\n",
              " 'TheInvestigation',\n",
              " 'arirang_ASC',\n",
              " 'NBAMVP',\n",
              " 'LegionFX',\n",
              " 'ItsAlwaysHardToGet',\n",
              " 'BelowDeckMed',\n",
              " 'Bucks',\n",
              " 'FireKietzman',\n",
              " 'PotLuckCrimes',\n",
              " 'LHHATL',\n",
              " 'bachlorette',\n",
              " 'IsARipOff',\n",
              " 'LukeP',\n",
              " 'TempleTerrorAttack',\n",
              " 'MumbaiRainlive',\n",
              " 'TuesdayThoughts',\n",
              " 'INDvBAN',\n",
              " '1MForNVNNTrailer',\n",
              " 'Tejas',\n",
              " 'Gurdaspur',\n",
              " 'Union',\n",
              " 'Hauz',\n",
              " 'Nalasopara',\n",
              " 'Know',\n",
              " 'Cox',\n",
              " 'Western',\n",
              " 'Western',\n",
              " 'TirangaInJaisalmer',\n",
              " 'StopHydrocarbonNotCauvery',\n",
              " 'TipsToCherishGoodHealth',\n",
              " 'KKTrailerFromTomorrow',\n",
              " 'SunnyDeol',\n",
              " 'Media420',\n",
              " 'savingsaccount',\n",
              " 'KodandaramiReddy',\n",
              " 'Jagannath',\n",
              " 'HappyBirthdayGanesh',\n",
              " 'cash',\n",
              " 'ZoyaAkhtar',\n",
              " 'BowBow',\n",
              " 'VikatanMedai',\n",
              " 'WeLoveDuke',\n",
              " 'Kanchana3',\n",
              " 'GalaxyNote10',\n",
              " 'lovingharryparty',\n",
              " 'shirleysetia',\n",
              " 'RaatchasiIn3Days',\n",
              " 'VenkyMama',\n",
              " 'CloudComputing',\n",
              " 'venuswilliams',\n",
              " 'Rupee',\n",
              " 'WRUpdates',\n",
              " 'GuesstheChampion',\n",
              " 'TheBachelorette',\n",
              " 'ImpeachNow',\n",
              " 'RickyRenucia',\n",
              " 'GirlsCruise',\n",
              " 'DemigodClaim',\n",
              " 'RacistGOP',\n",
              " 'ThingsYoullNeverSeeMeDo',\n",
              " 'IceBae',\n",
              " 'TheSquad',\n",
              " 'OverheardAtStarWarsCantina',\n",
              " 'SummerSlam',\n",
              " 'LHHATL',\n",
              " 'GrandHotel',\n",
              " 'BattleRoyal',\n",
              " 'WWERaw',\n",
              " 'BelowDeckMed',\n",
              " '90DayFianceTheOtherWay',\n",
              " 'ATOBTTR',\n",
              " 'FlavorTownOrdinances',\n",
              " 'CouldYouPleaseFix',\n",
              " 'LSSC',\n",
              " 'LegionFX',\n",
              " 'Fatal4Way',\n",
              " 'FinalSpace']"
            ]
          },
          "metadata": {
            "tags": []
          },
          "execution_count": 24
        }
      ]
    },
    {
      "cell_type": "code",
      "metadata": {
        "id": "fD0KwPpbXFaW",
        "colab_type": "code",
        "outputId": "0995b3f5-a9a4-4be6-a5e7-f1ad5566f4b4",
        "colab": {
          "base_uri": "https://localhost:8080/",
          "height": 1000
        }
      },
      "source": [
        "temp = []\n",
        "for each in list1:\n",
        "    temp.append([each , ps.stem(each)])\n",
        "print(pd.DataFrame(temp))"
      ],
      "execution_count": 0,
      "outputs": [
        {
          "output_type": "stream",
          "text": [
            "                             0                           1\n",
            "0              TheBachelorette              thebachelorett\n",
            "1            CancelStudentDebt           cancelstudentdebt\n",
            "2                    BETAwards                    betaward\n",
            "3                    NBAAwards                    nbaaward\n",
            "4        TheHillsNewBeginnings            thehillsnewbegin\n",
            "5                    ATEEZ_ASC                   ateez_asc\n",
            "6               TextsFromSatan              textsfromsatan\n",
            "7                  FearTheDeer                    fearthed\n",
            "8                       GoBlue                       goblu\n",
            "9             TheInvestigation                 theinvestig\n",
            "10                 arirang_ASC                 arirang_asc\n",
            "11                      NBAMVP                      nbamvp\n",
            "12                    LegionFX                    legionfx\n",
            "13          ItsAlwaysHardToGet          itsalwayshardtoget\n",
            "14                BelowDeckMed                  belowdeckm\n",
            "15                       Bucks                        buck\n",
            "16                FireKietzman                firekietzman\n",
            "17               PotLuckCrimes                 potluckcrim\n",
            "18                      LHHATL                      lhhatl\n",
            "19                 bachlorette                  bachlorett\n",
            "20                   IsARipOff                   isaripoff\n",
            "21                       LukeP                       lukep\n",
            "22          TempleTerrorAttack          templeterrorattack\n",
            "23              MumbaiRainlive                 mumbairainl\n",
            "24             TuesdayThoughts              tuesdaythought\n",
            "25                     INDvBAN                     indvban\n",
            "26            1MForNVNNTrailer              1mfornvnntrail\n",
            "27                       Tejas                        teja\n",
            "28                   Gurdaspur                   gurdaspur\n",
            "29                       Union                       union\n",
            "..                         ...                         ...\n",
            "56                   VenkyMama                   venkymama\n",
            "57              CloudComputing                 cloudcomput\n",
            "58               venuswilliams                venuswilliam\n",
            "59                       Rupee                        rupe\n",
            "60                   WRUpdates                     wrupdat\n",
            "61            GuesstheChampion            guessthechampion\n",
            "62             TheBachelorette              thebachelorett\n",
            "63                  ImpeachNow                  impeachnow\n",
            "64                RickyRenucia                rickyrenucia\n",
            "65                 GirlsCruise                  girlscruis\n",
            "66                DemigodClaim                demigodclaim\n",
            "67                   RacistGOP                   racistgop\n",
            "68     ThingsYoullNeverSeeMeDo     thingsyoullneverseemedo\n",
            "69                      IceBae                       iceba\n",
            "70                    TheSquad                    thesquad\n",
            "71  OverheardAtStarWarsCantina  overheardatstarwarscantina\n",
            "72                  SummerSlam                  summerslam\n",
            "73                      LHHATL                      lhhatl\n",
            "74                  GrandHotel                  grandhotel\n",
            "75                 BattleRoyal                   battleroy\n",
            "76                      WWERaw                      wweraw\n",
            "77                BelowDeckMed                  belowdeckm\n",
            "78      90DayFianceTheOtherWay      90dayfiancetheotherway\n",
            "79                     ATOBTTR                     atobttr\n",
            "80        FlavorTownOrdinances             flavortownordin\n",
            "81           CouldYouPleaseFix           couldyoupleasefix\n",
            "82                        LSSC                        lssc\n",
            "83                    LegionFX                    legionfx\n",
            "84                   Fatal4Way                   fatal4way\n",
            "85                  FinalSpace                   finalspac\n",
            "\n",
            "[86 rows x 2 columns]\n"
          ],
          "name": "stdout"
        }
      ]
    },
    {
      "cell_type": "code",
      "metadata": {
        "id": "Y0SWo7S9XTxJ",
        "colab_type": "code",
        "outputId": "67d771d8-4ae9-437d-9492-af86cab08e71",
        "colab": {
          "base_uri": "https://localhost:8080/",
          "height": 1000
        }
      },
      "source": [
        "import collections\n",
        "from nltk.util import ngrams\n",
        "BiGrams = ngrams(list1, 2)\n",
        "Freq = collections.Counter(BiGrams)\n",
        "temp = []\n",
        "for key in Freq.keys():\n",
        "    temp.append([key , Freq[key]])\n",
        "print(pd.DataFrame(temp))"
      ],
      "execution_count": 0,
      "outputs": [
        {
          "output_type": "stream",
          "text": [
            "                                            0  1\n",
            "0        (TheBachelorette, CancelStudentDebt)  1\n",
            "1              (CancelStudentDebt, BETAwards)  1\n",
            "2                      (BETAwards, NBAAwards)  1\n",
            "3          (NBAAwards, TheHillsNewBeginnings)  1\n",
            "4          (TheHillsNewBeginnings, ATEEZ_ASC)  1\n",
            "5                 (ATEEZ_ASC, TextsFromSatan)  1\n",
            "6               (TextsFromSatan, FearTheDeer)  1\n",
            "7                       (FearTheDeer, GoBlue)  1\n",
            "8                  (GoBlue, TheInvestigation)  1\n",
            "9             (TheInvestigation, arirang_ASC)  1\n",
            "10                      (arirang_ASC, NBAMVP)  1\n",
            "11                         (NBAMVP, LegionFX)  1\n",
            "12             (LegionFX, ItsAlwaysHardToGet)  1\n",
            "13         (ItsAlwaysHardToGet, BelowDeckMed)  1\n",
            "14                      (BelowDeckMed, Bucks)  1\n",
            "15                      (Bucks, FireKietzman)  1\n",
            "16              (FireKietzman, PotLuckCrimes)  1\n",
            "17                    (PotLuckCrimes, LHHATL)  1\n",
            "18                      (LHHATL, bachlorette)  1\n",
            "19                   (bachlorette, IsARipOff)  1\n",
            "20                         (IsARipOff, LukeP)  1\n",
            "21                (LukeP, TempleTerrorAttack)  1\n",
            "22       (TempleTerrorAttack, MumbaiRainlive)  1\n",
            "23          (MumbaiRainlive, TuesdayThoughts)  1\n",
            "24                 (TuesdayThoughts, INDvBAN)  1\n",
            "25                (INDvBAN, 1MForNVNNTrailer)  1\n",
            "26                  (1MForNVNNTrailer, Tejas)  1\n",
            "27                         (Tejas, Gurdaspur)  1\n",
            "28                         (Gurdaspur, Union)  1\n",
            "29                              (Union, Hauz)  1\n",
            "..                                        ... ..\n",
            "55              (RaatchasiIn3Days, VenkyMama)  1\n",
            "56                (VenkyMama, CloudComputing)  1\n",
            "57            (CloudComputing, venuswilliams)  1\n",
            "58                     (venuswilliams, Rupee)  1\n",
            "59                         (Rupee, WRUpdates)  1\n",
            "60              (WRUpdates, GuesstheChampion)  1\n",
            "61        (GuesstheChampion, TheBachelorette)  1\n",
            "62              (TheBachelorette, ImpeachNow)  1\n",
            "63                 (ImpeachNow, RickyRenucia)  1\n",
            "64                (RickyRenucia, GirlsCruise)  1\n",
            "65                (GirlsCruise, DemigodClaim)  1\n",
            "66                  (DemigodClaim, RacistGOP)  1\n",
            "67       (RacistGOP, ThingsYoullNeverSeeMeDo)  1\n",
            "68          (ThingsYoullNeverSeeMeDo, IceBae)  1\n",
            "69                         (IceBae, TheSquad)  1\n",
            "70     (TheSquad, OverheardAtStarWarsCantina)  1\n",
            "71   (OverheardAtStarWarsCantina, SummerSlam)  1\n",
            "72                       (SummerSlam, LHHATL)  1\n",
            "73                       (LHHATL, GrandHotel)  1\n",
            "74                  (GrandHotel, BattleRoyal)  1\n",
            "75                      (BattleRoyal, WWERaw)  1\n",
            "76                     (WWERaw, BelowDeckMed)  1\n",
            "77     (BelowDeckMed, 90DayFianceTheOtherWay)  1\n",
            "78          (90DayFianceTheOtherWay, ATOBTTR)  1\n",
            "79            (ATOBTTR, FlavorTownOrdinances)  1\n",
            "80  (FlavorTownOrdinances, CouldYouPleaseFix)  1\n",
            "81                  (CouldYouPleaseFix, LSSC)  1\n",
            "82                           (LSSC, LegionFX)  1\n",
            "83                      (LegionFX, Fatal4Way)  1\n",
            "84                    (Fatal4Way, FinalSpace)  1\n",
            "\n",
            "[85 rows x 2 columns]\n"
          ],
          "name": "stdout"
        }
      ]
    },
    {
      "cell_type": "code",
      "metadata": {
        "id": "LZ2ScfGMXcb4",
        "colab_type": "code",
        "outputId": "abfc9e84-ecad-4081-918b-4ce8a1406cb6",
        "colab": {
          "base_uri": "https://localhost:8080/",
          "height": 1000
        }
      },
      "source": [
        "triGrams = ngrams(list1, 3)\n",
        "Freq = collections.Counter(triGrams)\n",
        "temp = []\n",
        "for key in Freq.keys():\n",
        "    temp.append([key , Freq[key]])\n",
        "print(pd.DataFrame(temp))"
      ],
      "execution_count": 0,
      "outputs": [
        {
          "output_type": "stream",
          "text": [
            "                                                    0  1\n",
            "0     (TheBachelorette, CancelStudentDebt, BETAwards)  1\n",
            "1           (CancelStudentDebt, BETAwards, NBAAwards)  1\n",
            "2       (BETAwards, NBAAwards, TheHillsNewBeginnings)  1\n",
            "3       (NBAAwards, TheHillsNewBeginnings, ATEEZ_ASC)  1\n",
            "4   (TheHillsNewBeginnings, ATEEZ_ASC, TextsFromSa...  1\n",
            "5            (ATEEZ_ASC, TextsFromSatan, FearTheDeer)  1\n",
            "6               (TextsFromSatan, FearTheDeer, GoBlue)  1\n",
            "7             (FearTheDeer, GoBlue, TheInvestigation)  1\n",
            "8             (GoBlue, TheInvestigation, arirang_ASC)  1\n",
            "9             (TheInvestigation, arirang_ASC, NBAMVP)  1\n",
            "10                    (arirang_ASC, NBAMVP, LegionFX)  1\n",
            "11             (NBAMVP, LegionFX, ItsAlwaysHardToGet)  1\n",
            "12       (LegionFX, ItsAlwaysHardToGet, BelowDeckMed)  1\n",
            "13          (ItsAlwaysHardToGet, BelowDeckMed, Bucks)  1\n",
            "14                (BelowDeckMed, Bucks, FireKietzman)  1\n",
            "15               (Bucks, FireKietzman, PotLuckCrimes)  1\n",
            "16              (FireKietzman, PotLuckCrimes, LHHATL)  1\n",
            "17               (PotLuckCrimes, LHHATL, bachlorette)  1\n",
            "18                   (LHHATL, bachlorette, IsARipOff)  1\n",
            "19                    (bachlorette, IsARipOff, LukeP)  1\n",
            "20             (IsARipOff, LukeP, TempleTerrorAttack)  1\n",
            "21        (LukeP, TempleTerrorAttack, MumbaiRainlive)  1\n",
            "22  (TempleTerrorAttack, MumbaiRainlive, TuesdayTh...  1\n",
            "23         (MumbaiRainlive, TuesdayThoughts, INDvBAN)  1\n",
            "24       (TuesdayThoughts, INDvBAN, 1MForNVNNTrailer)  1\n",
            "25                 (INDvBAN, 1MForNVNNTrailer, Tejas)  1\n",
            "26               (1MForNVNNTrailer, Tejas, Gurdaspur)  1\n",
            "27                          (Tejas, Gurdaspur, Union)  1\n",
            "28                           (Gurdaspur, Union, Hauz)  1\n",
            "29                          (Union, Hauz, Nalasopara)  1\n",
            "..                                                ... ..\n",
            "54        (shirleysetia, RaatchasiIn3Days, VenkyMama)  1\n",
            "55      (RaatchasiIn3Days, VenkyMama, CloudComputing)  1\n",
            "56         (VenkyMama, CloudComputing, venuswilliams)  1\n",
            "57             (CloudComputing, venuswilliams, Rupee)  1\n",
            "58                  (venuswilliams, Rupee, WRUpdates)  1\n",
            "59               (Rupee, WRUpdates, GuesstheChampion)  1\n",
            "60     (WRUpdates, GuesstheChampion, TheBachelorette)  1\n",
            "61    (GuesstheChampion, TheBachelorette, ImpeachNow)  1\n",
            "62        (TheBachelorette, ImpeachNow, RickyRenucia)  1\n",
            "63            (ImpeachNow, RickyRenucia, GirlsCruise)  1\n",
            "64          (RickyRenucia, GirlsCruise, DemigodClaim)  1\n",
            "65             (GirlsCruise, DemigodClaim, RacistGOP)  1\n",
            "66  (DemigodClaim, RacistGOP, ThingsYoullNeverSeeM...  1\n",
            "67       (RacistGOP, ThingsYoullNeverSeeMeDo, IceBae)  1\n",
            "68        (ThingsYoullNeverSeeMeDo, IceBae, TheSquad)  1\n",
            "69     (IceBae, TheSquad, OverheardAtStarWarsCantina)  1\n",
            "70  (TheSquad, OverheardAtStarWarsCantina, SummerS...  1\n",
            "71   (OverheardAtStarWarsCantina, SummerSlam, LHHATL)  1\n",
            "72                   (SummerSlam, LHHATL, GrandHotel)  1\n",
            "73                  (LHHATL, GrandHotel, BattleRoyal)  1\n",
            "74                  (GrandHotel, BattleRoyal, WWERaw)  1\n",
            "75                (BattleRoyal, WWERaw, BelowDeckMed)  1\n",
            "76     (WWERaw, BelowDeckMed, 90DayFianceTheOtherWay)  1\n",
            "77    (BelowDeckMed, 90DayFianceTheOtherWay, ATOBTTR)  1\n",
            "78  (90DayFianceTheOtherWay, ATOBTTR, FlavorTownOr...  1\n",
            "79  (ATOBTTR, FlavorTownOrdinances, CouldYouPlease...  1\n",
            "80    (FlavorTownOrdinances, CouldYouPleaseFix, LSSC)  1\n",
            "81                (CouldYouPleaseFix, LSSC, LegionFX)  1\n",
            "82                        (LSSC, LegionFX, Fatal4Way)  1\n",
            "83                  (LegionFX, Fatal4Way, FinalSpace)  1\n",
            "\n",
            "[84 rows x 2 columns]\n"
          ],
          "name": "stdout"
        }
      ]
    },
    {
      "cell_type": "code",
      "metadata": {
        "id": "05n3IKy2XhUJ",
        "colab_type": "code",
        "outputId": "68cca892-f032-4139-a61c-2af674effc79",
        "colab": {
          "base_uri": "https://localhost:8080/",
          "height": 1000
        }
      },
      "source": [
        "doc_term_mat = dict()\n",
        "for key in list1:\n",
        "    if key in doc_term_mat.keys():\n",
        "        doc_term_mat[key]+=1\n",
        "    else:\n",
        "        doc_term_mat[key]=1\n",
        "for i in doc_term_mat.keys():\n",
        "    temp.append([i,doc_term_mat[i]])\n",
        "print(pd.DataFrame(temp))"
      ],
      "execution_count": 0,
      "outputs": [
        {
          "output_type": "stream",
          "text": [
            "                                                     0  1\n",
            "0      (TheBachelorette, CancelStudentDebt, BETAwards)  1\n",
            "1            (CancelStudentDebt, BETAwards, NBAAwards)  1\n",
            "2        (BETAwards, NBAAwards, TheHillsNewBeginnings)  1\n",
            "3        (NBAAwards, TheHillsNewBeginnings, ATEEZ_ASC)  1\n",
            "4    (TheHillsNewBeginnings, ATEEZ_ASC, TextsFromSa...  1\n",
            "5             (ATEEZ_ASC, TextsFromSatan, FearTheDeer)  1\n",
            "6                (TextsFromSatan, FearTheDeer, GoBlue)  1\n",
            "7              (FearTheDeer, GoBlue, TheInvestigation)  1\n",
            "8              (GoBlue, TheInvestigation, arirang_ASC)  1\n",
            "9              (TheInvestigation, arirang_ASC, NBAMVP)  1\n",
            "10                     (arirang_ASC, NBAMVP, LegionFX)  1\n",
            "11              (NBAMVP, LegionFX, ItsAlwaysHardToGet)  1\n",
            "12        (LegionFX, ItsAlwaysHardToGet, BelowDeckMed)  1\n",
            "13           (ItsAlwaysHardToGet, BelowDeckMed, Bucks)  1\n",
            "14                 (BelowDeckMed, Bucks, FireKietzman)  1\n",
            "15                (Bucks, FireKietzman, PotLuckCrimes)  1\n",
            "16               (FireKietzman, PotLuckCrimes, LHHATL)  1\n",
            "17                (PotLuckCrimes, LHHATL, bachlorette)  1\n",
            "18                    (LHHATL, bachlorette, IsARipOff)  1\n",
            "19                     (bachlorette, IsARipOff, LukeP)  1\n",
            "20              (IsARipOff, LukeP, TempleTerrorAttack)  1\n",
            "21         (LukeP, TempleTerrorAttack, MumbaiRainlive)  1\n",
            "22   (TempleTerrorAttack, MumbaiRainlive, TuesdayTh...  1\n",
            "23          (MumbaiRainlive, TuesdayThoughts, INDvBAN)  1\n",
            "24        (TuesdayThoughts, INDvBAN, 1MForNVNNTrailer)  1\n",
            "25                  (INDvBAN, 1MForNVNNTrailer, Tejas)  1\n",
            "26                (1MForNVNNTrailer, Tejas, Gurdaspur)  1\n",
            "27                           (Tejas, Gurdaspur, Union)  1\n",
            "28                            (Gurdaspur, Union, Hauz)  1\n",
            "29                           (Union, Hauz, Nalasopara)  1\n",
            "..                                                 ... ..\n",
            "135                                       GalaxyNote10  1\n",
            "136                                   lovingharryparty  1\n",
            "137                                       shirleysetia  1\n",
            "138                                   RaatchasiIn3Days  1\n",
            "139                                          VenkyMama  1\n",
            "140                                     CloudComputing  1\n",
            "141                                      venuswilliams  1\n",
            "142                                              Rupee  1\n",
            "143                                          WRUpdates  1\n",
            "144                                   GuesstheChampion  1\n",
            "145                                         ImpeachNow  1\n",
            "146                                       RickyRenucia  1\n",
            "147                                        GirlsCruise  1\n",
            "148                                       DemigodClaim  1\n",
            "149                                          RacistGOP  1\n",
            "150                            ThingsYoullNeverSeeMeDo  1\n",
            "151                                             IceBae  1\n",
            "152                                           TheSquad  1\n",
            "153                         OverheardAtStarWarsCantina  1\n",
            "154                                         SummerSlam  1\n",
            "155                                         GrandHotel  1\n",
            "156                                        BattleRoyal  1\n",
            "157                                             WWERaw  1\n",
            "158                             90DayFianceTheOtherWay  1\n",
            "159                                            ATOBTTR  1\n",
            "160                               FlavorTownOrdinances  1\n",
            "161                                  CouldYouPleaseFix  1\n",
            "162                                               LSSC  1\n",
            "163                                          Fatal4Way  1\n",
            "164                                         FinalSpace  1\n",
            "\n",
            "[165 rows x 2 columns]\n"
          ],
          "name": "stdout"
        }
      ]
    },
    {
      "cell_type": "code",
      "metadata": {
        "id": "ZHojK9AHXlH5",
        "colab_type": "code",
        "colab": {}
      },
      "source": [
        "l1=list1[:20]\n",
        "l2=list1[20:40]\n",
        "l3=list1[40:60]\n",
        "l4=list1[60:80]"
      ],
      "execution_count": 0,
      "outputs": []
    },
    {
      "cell_type": "code",
      "metadata": {
        "id": "FBDaFLraaoZ4",
        "colab_type": "code",
        "outputId": "ec797854-224f-4415-863c-7d7d044f5bf9",
        "colab": {
          "base_uri": "https://localhost:8080/",
          "height": 51
        }
      },
      "source": [
        "#Jaccard Simmilarity\n",
        "intersection = len(list(set(l1).intersection(l2)))\n",
        "print(list(set(l1).intersection(l2)))\n",
        "union = (len(l1) + len(l2)) - intersection\n",
        "result=float(intersection / union)\n",
        "print(result)"
      ],
      "execution_count": 0,
      "outputs": [
        {
          "output_type": "stream",
          "text": [
            "[]\n",
            "0.0\n"
          ],
          "name": "stdout"
        }
      ]
    },
    {
      "cell_type": "code",
      "metadata": {
        "id": "dGBfvKI7a3bO",
        "colab_type": "code",
        "outputId": "513adb7b-cf63-48f0-bc42-cdf74c708471",
        "colab": {
          "base_uri": "https://localhost:8080/",
          "height": 88
        }
      },
      "source": [
        "import sklearn\n",
        "sklearn.metrics.jaccard_similarity_score(l1, l2, normalize=True, sample_weight=None)"
      ],
      "execution_count": 0,
      "outputs": [
        {
          "output_type": "stream",
          "text": [
            "/usr/local/lib/python3.6/dist-packages/sklearn/metrics/classification.py:635: DeprecationWarning: jaccard_similarity_score has been deprecated and replaced with jaccard_score. It will be removed in version 0.23. This implementation has surprising behavior for binary and multiclass classification tasks.\n",
            "  'and multiclass classification tasks.', DeprecationWarning)\n"
          ],
          "name": "stderr"
        },
        {
          "output_type": "execute_result",
          "data": {
            "text/plain": [
              "0.0"
            ]
          },
          "metadata": {
            "tags": []
          },
          "execution_count": 39
        }
      ]
    },
    {
      "cell_type": "code",
      "metadata": {
        "id": "7c_P_2fQb9Dy",
        "colab_type": "code",
        "colab": {}
      },
      "source": [
        "li1=\"\"\n",
        "li2=\"\"\n",
        "li3=\"\"\n",
        "li4=\"\"\n",
        "for each in l1:\n",
        "  li1+=each+\" \"\n",
        "for each in l2:\n",
        "  li2+=each+\" \" \n",
        "for each in l3:\n",
        "  li3+=each+\" \"\n",
        "for each in l4:\n",
        "  li4+=each+\" \"  \n",
        "documents1=[li1,li2]\n",
        "documents2=[li3,li4]"
      ],
      "execution_count": 0,
      "outputs": []
    },
    {
      "cell_type": "code",
      "metadata": {
        "id": "xVFgjIOFe97g",
        "colab_type": "code",
        "outputId": "a07b59ce-0351-48b6-90ad-c4e46a4b9cef",
        "colab": {
          "base_uri": "https://localhost:8080/",
          "height": 782
        }
      },
      "source": [
        "from sklearn.feature_extraction.text import CountVectorizer\n",
        "from sklearn.feature_extraction.text import TfidfTransformer\n",
        "#from nltk.corpus import stopwords\n",
        "import numpy as np\n",
        "import numpy.linalg as LA\n",
        "#nltk.download(stopwords)\n",
        "train_set = documents1 #Documents\n",
        "test_set =documents2 #Query\n",
        "#stopWords = stopwords.words('english')\n",
        "\n",
        "vectorizer = CountVectorizer()\n",
        "#print vectorizer\n",
        "transformer = TfidfTransformer()\n",
        "#print transformer\n",
        "\n",
        "trainVectorizerArray = vectorizer.fit_transform(train_set).toarray()\n",
        "testVectorizerArray = vectorizer.transform(test_set).toarray()\n",
        "#print 'Fit Vectorizer to train set', trainVectorizerArray\n",
        "#print 'Transform Vectorizer to test set', testVectorizerArray\n",
        "cx = lambda a, b : round(np.inner(a, b)/(LA.norm(a)*LA.norm(b)), 3)\n",
        "\n",
        "for vector in trainVectorizerArray:\n",
        "    print(vector)\n",
        "    for testV in testVectorizerArray:\n",
        "        print(testV)\n",
        "        cosine = cx(vector, testV)\n",
        "        print(cosine)\n",
        "\n",
        "transformer.fit(trainVectorizerArray)\n",
        "print(transformer.transform(trainVectorizerArray).toarray())\n",
        "\n",
        "transformer.fit(testVectorizerArray)\n",
        " \n",
        "tfidf = transformer.transform(testVectorizerArray)\n",
        "print(tfidf.todense())"
      ],
      "execution_count": 0,
      "outputs": [
        {
          "output_type": "stream",
          "text": [
            "[0 1 1 1 1 1 1 1 0 1 1 1 0 0 0 0 1 0 0 1 1 0 0 0 1 1 1 0 0 0 1 1 1 1 0 0 0\n",
            " 0 0]\n",
            "[0 0 0 0 0 0 0 0 0 0 0 0 0 0 0 0 0 0 0 0 0 0 0 0 0 0 0 0 0 0 0 0 0 0 0 0 0\n",
            " 0 0]\n",
            "nan\n",
            "[0 0 0 0 1 0 0 0 0 0 0 0 0 0 0 0 0 0 0 0 1 0 0 0 0 0 0 0 0 0 0 1 0 0 0 0 0\n",
            " 0 0]\n",
            "0.387\n",
            "[1 0 0 0 0 0 0 0 1 0 0 0 1 1 1 1 0 1 1 0 0 1 1 1 0 0 0 1 1 1 0 0 0 0 1 1 1\n",
            " 1 2]\n",
            "[0 0 0 0 0 0 0 0 0 0 0 0 0 0 0 0 0 0 0 0 0 0 0 0 0 0 0 0 0 0 0 0 0 0 0 0 0\n",
            " 0 0]\n",
            "nan\n",
            "[0 0 0 0 1 0 0 0 0 0 0 0 0 0 0 0 0 0 0 0 1 0 0 0 0 0 0 0 0 0 0 1 0 0 0 0 0\n",
            " 0 0]\n",
            "0.0\n",
            "[[0.         0.2236068  0.2236068  0.2236068  0.2236068  0.2236068\n",
            "  0.2236068  0.2236068  0.         0.2236068  0.2236068  0.2236068\n",
            "  0.         0.         0.         0.         0.2236068  0.\n",
            "  0.         0.2236068  0.2236068  0.         0.         0.\n",
            "  0.2236068  0.2236068  0.2236068  0.         0.         0.\n",
            "  0.2236068  0.2236068  0.2236068  0.2236068  0.         0.\n",
            "  0.         0.         0.        ]\n",
            " [0.21320072 0.         0.         0.         0.         0.\n",
            "  0.         0.         0.21320072 0.         0.         0.\n",
            "  0.21320072 0.21320072 0.21320072 0.21320072 0.         0.21320072\n",
            "  0.21320072 0.         0.         0.21320072 0.21320072 0.21320072\n",
            "  0.         0.         0.         0.21320072 0.21320072 0.21320072\n",
            "  0.         0.         0.         0.         0.21320072 0.21320072\n",
            "  0.21320072 0.21320072 0.42640143]]\n",
            "[[0.         0.         0.         0.         0.         0.\n",
            "  0.         0.         0.         0.         0.         0.\n",
            "  0.         0.         0.         0.         0.         0.\n",
            "  0.         0.         0.         0.         0.         0.\n",
            "  0.         0.         0.         0.         0.         0.\n",
            "  0.         0.         0.         0.         0.         0.\n",
            "  0.         0.         0.        ]\n",
            " [0.         0.         0.         0.         0.57735027 0.\n",
            "  0.         0.         0.         0.         0.         0.\n",
            "  0.         0.         0.         0.         0.         0.\n",
            "  0.         0.         0.57735027 0.         0.         0.\n",
            "  0.         0.         0.         0.         0.         0.\n",
            "  0.         0.57735027 0.         0.         0.         0.\n",
            "  0.         0.         0.        ]]\n"
          ],
          "name": "stdout"
        },
        {
          "output_type": "stream",
          "text": [
            "/usr/local/lib/python3.6/dist-packages/ipykernel_launcher.py:20: RuntimeWarning: invalid value encountered in true_divide\n"
          ],
          "name": "stderr"
        }
      ]
    },
    {
      "cell_type": "code",
      "metadata": {
        "id": "p4EYw2DBfDM2",
        "colab_type": "code",
        "colab": {}
      },
      "source": [
        ""
      ],
      "execution_count": 0,
      "outputs": []
    }
  ]
}