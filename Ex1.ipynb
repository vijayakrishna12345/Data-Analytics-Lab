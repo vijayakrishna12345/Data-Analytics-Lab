{
 "cells": [
  {
   "cell_type": "code",
   "execution_count": 80,
   "metadata": {},
   "outputs": [],
   "source": [
    "#Imporing the required libraries \n",
    "import os\n",
    "import matplotlib.pyplot as plt\n",
    "import seaborn\n",
    "import pandas as pd\n",
    "import statistics\n",
    "from scipy import stats\n",
    "import numpy\n",
    "from matplotlib import rcParams\n",
    "import scipy"
   ]
  },
  {
   "cell_type": "code",
   "execution_count": 81,
   "metadata": {},
   "outputs": [],
   "source": [
    "#Importing the Dataset using Pandas\n",
    "data=pd.read_csv('C:/Users/Sumi/Desktop/VK/DA/movies.csv',encoding='ISO-8859-1')"
   ]
  },
  {
   "cell_type": "code",
   "execution_count": 82,
   "metadata": {},
   "outputs": [
    {
     "data": {
      "text/html": [
       "<div>\n",
       "<style scoped>\n",
       "    .dataframe tbody tr th:only-of-type {\n",
       "        vertical-align: middle;\n",
       "    }\n",
       "\n",
       "    .dataframe tbody tr th {\n",
       "        vertical-align: top;\n",
       "    }\n",
       "\n",
       "    .dataframe thead th {\n",
       "        text-align: right;\n",
       "    }\n",
       "</style>\n",
       "<table border=\"1\" class=\"dataframe\">\n",
       "  <thead>\n",
       "    <tr style=\"text-align: right;\">\n",
       "      <th></th>\n",
       "      <th>budget</th>\n",
       "      <th>gross</th>\n",
       "      <th>runtime</th>\n",
       "      <th>score</th>\n",
       "      <th>votes</th>\n",
       "      <th>year</th>\n",
       "    </tr>\n",
       "  </thead>\n",
       "  <tbody>\n",
       "    <tr>\n",
       "      <th>count</th>\n",
       "      <td>6.820000e+03</td>\n",
       "      <td>6.820000e+03</td>\n",
       "      <td>6820.00000</td>\n",
       "      <td>6820.000000</td>\n",
       "      <td>6.820000e+03</td>\n",
       "      <td>6820.000000</td>\n",
       "    </tr>\n",
       "    <tr>\n",
       "      <th>mean</th>\n",
       "      <td>2.458113e+07</td>\n",
       "      <td>3.349783e+07</td>\n",
       "      <td>106.55132</td>\n",
       "      <td>6.374897</td>\n",
       "      <td>7.121952e+04</td>\n",
       "      <td>2001.000293</td>\n",
       "    </tr>\n",
       "    <tr>\n",
       "      <th>std</th>\n",
       "      <td>3.702254e+07</td>\n",
       "      <td>5.819760e+07</td>\n",
       "      <td>18.02818</td>\n",
       "      <td>1.003142</td>\n",
       "      <td>1.305176e+05</td>\n",
       "      <td>8.944501</td>\n",
       "    </tr>\n",
       "    <tr>\n",
       "      <th>min</th>\n",
       "      <td>0.000000e+00</td>\n",
       "      <td>7.000000e+01</td>\n",
       "      <td>50.00000</td>\n",
       "      <td>1.500000</td>\n",
       "      <td>2.700000e+01</td>\n",
       "      <td>1986.000000</td>\n",
       "    </tr>\n",
       "    <tr>\n",
       "      <th>25%</th>\n",
       "      <td>0.000000e+00</td>\n",
       "      <td>1.515839e+06</td>\n",
       "      <td>95.00000</td>\n",
       "      <td>5.800000</td>\n",
       "      <td>7.665250e+03</td>\n",
       "      <td>1993.000000</td>\n",
       "    </tr>\n",
       "    <tr>\n",
       "      <th>50%</th>\n",
       "      <td>1.100000e+07</td>\n",
       "      <td>1.213568e+07</td>\n",
       "      <td>102.00000</td>\n",
       "      <td>6.400000</td>\n",
       "      <td>2.589250e+04</td>\n",
       "      <td>2001.000000</td>\n",
       "    </tr>\n",
       "    <tr>\n",
       "      <th>75%</th>\n",
       "      <td>3.200000e+07</td>\n",
       "      <td>4.006534e+07</td>\n",
       "      <td>115.00000</td>\n",
       "      <td>7.100000</td>\n",
       "      <td>7.581225e+04</td>\n",
       "      <td>2009.000000</td>\n",
       "    </tr>\n",
       "    <tr>\n",
       "      <th>max</th>\n",
       "      <td>3.000000e+08</td>\n",
       "      <td>9.366622e+08</td>\n",
       "      <td>366.00000</td>\n",
       "      <td>9.300000</td>\n",
       "      <td>1.861666e+06</td>\n",
       "      <td>2016.000000</td>\n",
       "    </tr>\n",
       "  </tbody>\n",
       "</table>\n",
       "</div>"
      ],
      "text/plain": [
       "             budget         gross     runtime        score         votes  \\\n",
       "count  6.820000e+03  6.820000e+03  6820.00000  6820.000000  6.820000e+03   \n",
       "mean   2.458113e+07  3.349783e+07   106.55132     6.374897  7.121952e+04   \n",
       "std    3.702254e+07  5.819760e+07    18.02818     1.003142  1.305176e+05   \n",
       "min    0.000000e+00  7.000000e+01    50.00000     1.500000  2.700000e+01   \n",
       "25%    0.000000e+00  1.515839e+06    95.00000     5.800000  7.665250e+03   \n",
       "50%    1.100000e+07  1.213568e+07   102.00000     6.400000  2.589250e+04   \n",
       "75%    3.200000e+07  4.006534e+07   115.00000     7.100000  7.581225e+04   \n",
       "max    3.000000e+08  9.366622e+08   366.00000     9.300000  1.861666e+06   \n",
       "\n",
       "              year  \n",
       "count  6820.000000  \n",
       "mean   2001.000293  \n",
       "std       8.944501  \n",
       "min    1986.000000  \n",
       "25%    1993.000000  \n",
       "50%    2001.000000  \n",
       "75%    2009.000000  \n",
       "max    2016.000000  "
      ]
     },
     "execution_count": 82,
     "metadata": {},
     "output_type": "execute_result"
    }
   ],
   "source": [
    "#Describing the Dataset\n",
    "data.describe()"
   ]
  },
  {
   "cell_type": "code",
   "execution_count": 83,
   "metadata": {},
   "outputs": [
    {
     "data": {
      "text/html": [
       "<div>\n",
       "<style scoped>\n",
       "    .dataframe tbody tr th:only-of-type {\n",
       "        vertical-align: middle;\n",
       "    }\n",
       "\n",
       "    .dataframe tbody tr th {\n",
       "        vertical-align: top;\n",
       "    }\n",
       "\n",
       "    .dataframe thead th {\n",
       "        text-align: right;\n",
       "    }\n",
       "</style>\n",
       "<table border=\"1\" class=\"dataframe\">\n",
       "  <thead>\n",
       "    <tr style=\"text-align: right;\">\n",
       "      <th></th>\n",
       "      <th>budget</th>\n",
       "      <th>company</th>\n",
       "      <th>country</th>\n",
       "      <th>director</th>\n",
       "      <th>genre</th>\n",
       "      <th>gross</th>\n",
       "      <th>name</th>\n",
       "      <th>rating</th>\n",
       "      <th>released</th>\n",
       "      <th>runtime</th>\n",
       "      <th>score</th>\n",
       "      <th>star</th>\n",
       "      <th>votes</th>\n",
       "      <th>writer</th>\n",
       "      <th>year</th>\n",
       "    </tr>\n",
       "  </thead>\n",
       "  <tbody>\n",
       "    <tr>\n",
       "      <th>0</th>\n",
       "      <td>8000000</td>\n",
       "      <td>Columbia Pictures Corporation</td>\n",
       "      <td>USA</td>\n",
       "      <td>Rob Reiner</td>\n",
       "      <td>Adventure</td>\n",
       "      <td>52287414</td>\n",
       "      <td>Stand by Me</td>\n",
       "      <td>R</td>\n",
       "      <td>22-08-1986</td>\n",
       "      <td>89</td>\n",
       "      <td>8.1</td>\n",
       "      <td>Wil Wheaton</td>\n",
       "      <td>299174</td>\n",
       "      <td>Stephen King</td>\n",
       "      <td>1986</td>\n",
       "    </tr>\n",
       "    <tr>\n",
       "      <th>1</th>\n",
       "      <td>6000000</td>\n",
       "      <td>Paramount Pictures</td>\n",
       "      <td>USA</td>\n",
       "      <td>John Hughes</td>\n",
       "      <td>Comedy</td>\n",
       "      <td>70136369</td>\n",
       "      <td>Ferris Bueller's Day Off</td>\n",
       "      <td>PG-13</td>\n",
       "      <td>11-06-1986</td>\n",
       "      <td>103</td>\n",
       "      <td>7.8</td>\n",
       "      <td>Matthew Broderick</td>\n",
       "      <td>264740</td>\n",
       "      <td>John Hughes</td>\n",
       "      <td>1986</td>\n",
       "    </tr>\n",
       "    <tr>\n",
       "      <th>2</th>\n",
       "      <td>15000000</td>\n",
       "      <td>Paramount Pictures</td>\n",
       "      <td>USA</td>\n",
       "      <td>Tony Scott</td>\n",
       "      <td>Action</td>\n",
       "      <td>179800601</td>\n",
       "      <td>Top Gun</td>\n",
       "      <td>PG</td>\n",
       "      <td>16-05-1986</td>\n",
       "      <td>110</td>\n",
       "      <td>6.9</td>\n",
       "      <td>Tom Cruise</td>\n",
       "      <td>236909</td>\n",
       "      <td>Jim Cash</td>\n",
       "      <td>1986</td>\n",
       "    </tr>\n",
       "    <tr>\n",
       "      <th>3</th>\n",
       "      <td>18500000</td>\n",
       "      <td>Twentieth Century Fox Film Corporation</td>\n",
       "      <td>USA</td>\n",
       "      <td>James Cameron</td>\n",
       "      <td>Action</td>\n",
       "      <td>85160248</td>\n",
       "      <td>Aliens</td>\n",
       "      <td>R</td>\n",
       "      <td>18-07-1986</td>\n",
       "      <td>137</td>\n",
       "      <td>8.4</td>\n",
       "      <td>Sigourney Weaver</td>\n",
       "      <td>540152</td>\n",
       "      <td>James Cameron</td>\n",
       "      <td>1986</td>\n",
       "    </tr>\n",
       "    <tr>\n",
       "      <th>4</th>\n",
       "      <td>9000000</td>\n",
       "      <td>Walt Disney Pictures</td>\n",
       "      <td>USA</td>\n",
       "      <td>Randal Kleiser</td>\n",
       "      <td>Adventure</td>\n",
       "      <td>18564613</td>\n",
       "      <td>Flight of the Navigator</td>\n",
       "      <td>PG</td>\n",
       "      <td>01-08-1986</td>\n",
       "      <td>90</td>\n",
       "      <td>6.9</td>\n",
       "      <td>Joey Cramer</td>\n",
       "      <td>36636</td>\n",
       "      <td>Mark H. Baker</td>\n",
       "      <td>1986</td>\n",
       "    </tr>\n",
       "    <tr>\n",
       "      <th>5</th>\n",
       "      <td>6000000</td>\n",
       "      <td>Hemdale</td>\n",
       "      <td>UK</td>\n",
       "      <td>Oliver Stone</td>\n",
       "      <td>Drama</td>\n",
       "      <td>138530565</td>\n",
       "      <td>Platoon</td>\n",
       "      <td>R</td>\n",
       "      <td>06-02-1987</td>\n",
       "      <td>120</td>\n",
       "      <td>8.1</td>\n",
       "      <td>Charlie Sheen</td>\n",
       "      <td>317585</td>\n",
       "      <td>Oliver Stone</td>\n",
       "      <td>1986</td>\n",
       "    </tr>\n",
       "    <tr>\n",
       "      <th>6</th>\n",
       "      <td>25000000</td>\n",
       "      <td>Henson Associates (HA)</td>\n",
       "      <td>UK</td>\n",
       "      <td>Jim Henson</td>\n",
       "      <td>Adventure</td>\n",
       "      <td>12729917</td>\n",
       "      <td>Labyrinth</td>\n",
       "      <td>PG</td>\n",
       "      <td>27-06-1986</td>\n",
       "      <td>101</td>\n",
       "      <td>7.4</td>\n",
       "      <td>David Bowie</td>\n",
       "      <td>102879</td>\n",
       "      <td>Dennis Lee</td>\n",
       "      <td>1986</td>\n",
       "    </tr>\n",
       "    <tr>\n",
       "      <th>7</th>\n",
       "      <td>6000000</td>\n",
       "      <td>De Laurentiis Entertainment Group (DEG)</td>\n",
       "      <td>USA</td>\n",
       "      <td>David Lynch</td>\n",
       "      <td>Drama</td>\n",
       "      <td>8551228</td>\n",
       "      <td>Blue Velvet</td>\n",
       "      <td>R</td>\n",
       "      <td>23-10-1986</td>\n",
       "      <td>120</td>\n",
       "      <td>7.8</td>\n",
       "      <td>Isabella Rossellini</td>\n",
       "      <td>146768</td>\n",
       "      <td>David Lynch</td>\n",
       "      <td>1986</td>\n",
       "    </tr>\n",
       "    <tr>\n",
       "      <th>8</th>\n",
       "      <td>9000000</td>\n",
       "      <td>Paramount Pictures</td>\n",
       "      <td>USA</td>\n",
       "      <td>Howard Deutch</td>\n",
       "      <td>Comedy</td>\n",
       "      <td>40471663</td>\n",
       "      <td>Pretty in Pink</td>\n",
       "      <td>PG-13</td>\n",
       "      <td>28-02-1986</td>\n",
       "      <td>96</td>\n",
       "      <td>6.8</td>\n",
       "      <td>Molly Ringwald</td>\n",
       "      <td>60565</td>\n",
       "      <td>John Hughes</td>\n",
       "      <td>1986</td>\n",
       "    </tr>\n",
       "    <tr>\n",
       "      <th>9</th>\n",
       "      <td>15000000</td>\n",
       "      <td>SLM Production Group</td>\n",
       "      <td>USA</td>\n",
       "      <td>David Cronenberg</td>\n",
       "      <td>Drama</td>\n",
       "      <td>40456565</td>\n",
       "      <td>The Fly</td>\n",
       "      <td>R</td>\n",
       "      <td>15-08-1986</td>\n",
       "      <td>96</td>\n",
       "      <td>7.5</td>\n",
       "      <td>Jeff Goldblum</td>\n",
       "      <td>129698</td>\n",
       "      <td>George Langelaan</td>\n",
       "      <td>1986</td>\n",
       "    </tr>\n",
       "  </tbody>\n",
       "</table>\n",
       "</div>"
      ],
      "text/plain": [
       "     budget                                  company country  \\\n",
       "0   8000000            Columbia Pictures Corporation     USA   \n",
       "1   6000000                       Paramount Pictures     USA   \n",
       "2  15000000                       Paramount Pictures     USA   \n",
       "3  18500000   Twentieth Century Fox Film Corporation     USA   \n",
       "4   9000000                     Walt Disney Pictures     USA   \n",
       "5   6000000                                  Hemdale      UK   \n",
       "6  25000000                   Henson Associates (HA)      UK   \n",
       "7   6000000  De Laurentiis Entertainment Group (DEG)     USA   \n",
       "8   9000000                       Paramount Pictures     USA   \n",
       "9  15000000                     SLM Production Group     USA   \n",
       "\n",
       "           director      genre      gross                      name rating  \\\n",
       "0        Rob Reiner  Adventure   52287414               Stand by Me      R   \n",
       "1       John Hughes     Comedy   70136369  Ferris Bueller's Day Off  PG-13   \n",
       "2        Tony Scott     Action  179800601                   Top Gun     PG   \n",
       "3     James Cameron     Action   85160248                    Aliens      R   \n",
       "4    Randal Kleiser  Adventure   18564613   Flight of the Navigator     PG   \n",
       "5      Oliver Stone      Drama  138530565                   Platoon      R   \n",
       "6        Jim Henson  Adventure   12729917                 Labyrinth     PG   \n",
       "7       David Lynch      Drama    8551228               Blue Velvet      R   \n",
       "8     Howard Deutch     Comedy   40471663            Pretty in Pink  PG-13   \n",
       "9  David Cronenberg      Drama   40456565                   The Fly      R   \n",
       "\n",
       "     released  runtime  score                 star   votes            writer  \\\n",
       "0  22-08-1986       89    8.1          Wil Wheaton  299174      Stephen King   \n",
       "1  11-06-1986      103    7.8    Matthew Broderick  264740       John Hughes   \n",
       "2  16-05-1986      110    6.9           Tom Cruise  236909          Jim Cash   \n",
       "3  18-07-1986      137    8.4     Sigourney Weaver  540152     James Cameron   \n",
       "4  01-08-1986       90    6.9          Joey Cramer   36636     Mark H. Baker   \n",
       "5  06-02-1987      120    8.1        Charlie Sheen  317585      Oliver Stone   \n",
       "6  27-06-1986      101    7.4          David Bowie  102879        Dennis Lee   \n",
       "7  23-10-1986      120    7.8  Isabella Rossellini  146768       David Lynch   \n",
       "8  28-02-1986       96    6.8       Molly Ringwald   60565       John Hughes   \n",
       "9  15-08-1986       96    7.5        Jeff Goldblum  129698  George Langelaan   \n",
       "\n",
       "   year  \n",
       "0  1986  \n",
       "1  1986  \n",
       "2  1986  \n",
       "3  1986  \n",
       "4  1986  \n",
       "5  1986  \n",
       "6  1986  \n",
       "7  1986  \n",
       "8  1986  \n",
       "9  1986  "
      ]
     },
     "execution_count": 83,
     "metadata": {},
     "output_type": "execute_result"
    }
   ],
   "source": [
    "#Head of the dataset\n",
    "data.head(10)\n",
    "#print(df)"
   ]
  },
  {
   "cell_type": "code",
   "execution_count": 84,
   "metadata": {},
   "outputs": [
    {
     "name": "stderr",
     "output_type": "stream",
     "text": [
      "C:\\Users\\Sumi\\Anaconda3\\lib\\site-packages\\IPython\\core\\interactiveshell.py:3267: UserWarning: To output multiple subplots, the figure containing the passed axes is being cleared\n",
      "  exec(code_obj, self.user_global_ns, self.user_ns)\n"
     ]
    },
    {
     "data": {
      "text/plain": [
       "array([[<matplotlib.axes._subplots.AxesSubplot object at 0x000001CCD25EBBE0>,\n",
       "        <matplotlib.axes._subplots.AxesSubplot object at 0x000001CCD270C828>],\n",
       "       [<matplotlib.axes._subplots.AxesSubplot object at 0x000001CCD25B5F98>,\n",
       "        <matplotlib.axes._subplots.AxesSubplot object at 0x000001CCD085ED68>],\n",
       "       [<matplotlib.axes._subplots.AxesSubplot object at 0x000001CCD07F12B0>,\n",
       "        <matplotlib.axes._subplots.AxesSubplot object at 0x000001CCD2617860>]],\n",
       "      dtype=object)"
      ]
     },
     "execution_count": 84,
     "metadata": {},
     "output_type": "execute_result"
    },
    {
     "data": {
      "image/png": "[encoded data removed]",
      "text/plain": [
       "<Figure size 720x1080 with 6 Axes>"
      ]
     },
     "metadata": {
      "needs_background": "light"
     },
     "output_type": "display_data"
    }
   ],
   "source": [
    "#Histograms\n",
    "fig = plt.figure(figsize = (10,15))\n",
    "ax = fig.gca()\n",
    "data.hist(ax=ax,bins=10)\n",
    "#data['score'].hist(bins=10)\n"
   ]
  },
  {
   "cell_type": "code",
   "execution_count": 85,
   "metadata": {},
   "outputs": [
    {
     "data": {
      "text/plain": [
       "<matplotlib.axes._subplots.AxesSubplot at 0x1ccd27280b8>"
      ]
     },
     "execution_count": 85,
     "metadata": {},
     "output_type": "execute_result"
    },
    {
     "data": {
      "image/png": "[encoded data removed]",
      "text/plain": [
       "<Figure size 432x288 with 1 Axes>"
      ]
     },
     "metadata": {
      "needs_background": "light"
     },
     "output_type": "display_data"
    }
   ],
   "source": [
    "#Box Plot\n",
    "df=data.head(10)\n",
    "df.plot.box()"
   ]
  },
  {
   "cell_type": "code",
   "execution_count": 86,
   "metadata": {},
   "outputs": [
    {
     "data": {
      "image/png": "[encoded data removed]",
      "text/plain": [
       "<Figure size 432x288 with 1 Axes>"
      ]
     },
     "metadata": {
      "needs_background": "light"
     },
     "output_type": "display_data"
    }
   ],
   "source": [
    "#Bar Graph\n",
    "data.iloc[:20].plot.bar()\n",
    "plt.show()"
   ]
  },
  {
   "cell_type": "code",
   "execution_count": 87,
   "metadata": {},
   "outputs": [
    {
     "name": "stdout",
     "output_type": "stream",
     "text": [
      "Frequency Table for Genre:\n",
      "War             2\n",
      "Western         2\n",
      "Musical         4\n",
      "Sci-Fi         13\n",
      "Family         14\n",
      "Romance        15\n",
      "Thriller       18\n",
      "Fantasy        32\n",
      "Mystery        38\n",
      "Animation     277\n",
      "Horror        277\n",
      "Biography     359\n",
      "Adventure     392\n",
      "Crime         522\n",
      "Action       1331\n",
      "Drama        1444\n",
      "Comedy       2080\n",
      "Name: genre, dtype: int64\n",
      "\n",
      "Percentage of each genre:\n",
      "{'Adventure': 5.75, 'Comedy': 30.5, 'Action': 19.52, 'Drama': 21.17, 'Crime': 7.65, 'Thriller': 0.26, 'Horror': 4.06, 'Animation': 4.06, 'Biography': 5.26, 'Sci-Fi': 0.19, 'Musical': 0.06, 'Family': 0.21, 'Fantasy': 0.47, 'Mystery': 0.56, 'War': 0.03, 'Romance': 0.22, 'Western': 0.03}\n"
     ]
    }
   ],
   "source": [
    "#Frequency Table for plotting\n",
    "from collections import Counter\n",
    "temp1 = data['genre'].value_counts(ascending=True)\n",
    "temp2 = dict(Counter(data['genre']))\n",
    "count_row = data.shape[0]\n",
    "for i in temp2:\n",
    "    temp2[i]=round((temp2[i]/count_row)*100,2)\n",
    "print ('Frequency Table for Genre:') \n",
    "print (temp1)\n",
    "\n",
    "print ('\\nPercentage of each genre:')\n",
    "print (temp2)"
   ]
  },
  {
   "cell_type": "code",
   "execution_count": 88,
   "metadata": {},
   "outputs": [
    {
     "data": {
      "image/png": "[encoded data removed]",
      "text/plain": [
       "<Figure size 2160x720 with 1 Axes>"
      ]
     },
     "metadata": {
      "needs_background": "light"
     },
     "output_type": "display_data"
    }
   ],
   "source": [
    "#Probability\n",
    "lists = sorted(temp2.items())\n",
    "fig = plt.figure(figsize=(30,10))\n",
    "ax1 = fig.add_subplot(121)\n",
    "ax1.set_xlabel('Genres')\n",
    "ax1.set_ylabel('Genres percentage')\n",
    "ax1.set_title(\"Probability of each genre\")\n",
    "x, y = zip(*lists)\n",
    "plt.bar(x, y)\n",
    "plt.show()"
   ]
  },
  {
   "cell_type": "code",
   "execution_count": 89,
   "metadata": {},
   "outputs": [
    {
     "name": "stdout",
     "output_type": "stream",
     "text": [
      "('Action', 'Adventure', 'Animation', 'Biography', 'Comedy', 'Crime', 'Drama', 'Family', 'Fantasy', 'Horror', 'Musical', 'Mystery', 'Romance', 'Sci-Fi', 'Thriller', 'War', 'Western')\n",
      "(19.52, 5.75, 4.06, 5.26, 30.5, 7.65, 21.17, 0.21, 0.47, 4.06, 0.06, 0.56, 0.22, 0.19, 0.26, 0.03, 0.03)\n"
     ]
    },
    {
     "data": {
      "image/png": "[encoded data removed]",
      "text/plain": [
       "<Figure size 432x288 with 1 Axes>"
      ]
     },
     "metadata": {},
     "output_type": "display_data"
    }
   ],
   "source": [
    "#Pie Chart\n",
    "print(x)\n",
    "print(y)\n",
    "figureObject, axesObject = plt.subplots()\n",
    "\n",
    "axesObject.pie(y,labels=x,autopct='%1.2f',startangle=90)\n",
    "axesObject.axis('equal')\n",
    "plt.show()"
   ]
  },
  {
   "cell_type": "code",
   "execution_count": 90,
   "metadata": {},
   "outputs": [
    {
     "data": {
      "image/png": "[encoded data removed]",
      "text/plain": [
       "<Figure size 2160x720 with 1 Axes>"
      ]
     },
     "metadata": {
      "needs_background": "light"
     },
     "output_type": "display_data"
    }
   ],
   "source": [
    "#Scatter Plot\n",
    "lists = sorted(temp2.items())\n",
    "fig = plt.figure(figsize=(30,10))\n",
    "ax1 = fig.add_subplot(121)\n",
    "ax1.set_xlabel('Genres')\n",
    "ax1.set_ylabel('Genres percentage')\n",
    "ax1.set_title(\"Probability of each genre\")\n",
    "x, y = zip(*lists)\n",
    "plt.scatter(x, y)\n",
    "plt.show()\n"
   ]
  },
  {
   "cell_type": "code",
   "execution_count": 91,
   "metadata": {},
   "outputs": [
    {
     "data": {
      "text/plain": [
       "budget     2.458113e+07\n",
       "gross      3.349783e+07\n",
       "runtime    1.065513e+02\n",
       "score      6.374897e+00\n",
       "votes      7.121952e+04\n",
       "year       2.001000e+03\n",
       "dtype: float64"
      ]
     },
     "execution_count": 91,
     "metadata": {},
     "output_type": "execute_result"
    }
   ],
   "source": [
    "#Arthimetic Mean\n",
    "data.mean()"
   ]
  },
  {
   "cell_type": "code",
   "execution_count": 92,
   "metadata": {},
   "outputs": [
    {
     "name": "stdout",
     "output_type": "stream",
     "text": [
      "Arithmetic mean: 6.374897360703794\n"
     ]
    }
   ],
   "source": [
    "#Arthimetic Mean\n",
    "list1=list(data['score'])\n",
    "preprocessed_data = [x for x in list1 if str(x) != 'nan']\n",
    "mean_ar=sum(preprocessed_data)/len(preprocessed_data)\n",
    "print('Arithmetic mean:',mean_ar)"
   ]
  },
  {
   "cell_type": "code",
   "execution_count": 93,
   "metadata": {},
   "outputs": [
    {
     "name": "stdout",
     "output_type": "stream",
     "text": [
      "6.374897360703812\n"
     ]
    }
   ],
   "source": [
    "#Arthimetic Mean\n",
    "x=data.score\n",
    "mean=statistics.mean(x)\n",
    "print(mean)"
   ]
  },
  {
   "cell_type": "code",
   "execution_count": 94,
   "metadata": {},
   "outputs": [
    {
     "data": {
      "text/plain": [
       "6530569.018746891"
      ]
     },
     "execution_count": 94,
     "metadata": {},
     "output_type": "execute_result"
    }
   ],
   "source": [
    "# Geometric Mean \n",
    "import math\n",
    "\n",
    "def geomean(xs):\n",
    "    return math.exp(math.fsum(math.log(x) for x in xs)/ len(xs))\n",
    "\n",
    "geomean(data.gross)"
   ]
  },
  {
   "cell_type": "code",
   "execution_count": 95,
   "metadata": {},
   "outputs": [
    {
     "name": "stdout",
     "output_type": "stream",
     "text": [
      "gmean is 6530569.018746891\n",
      "hmean is 98087.14948146703\n"
     ]
    }
   ],
   "source": [
    "#geometric and harmonic mean\n",
    "gmean=stats.gmean(data.gross)\n",
    "print(\"gmean is\",gmean)\n",
    "hmean=stats.hmean(data.gross)\n",
    "print(\"hmean is\",hmean)"
   ]
  },
  {
   "cell_type": "code",
   "execution_count": 96,
   "metadata": {},
   "outputs": [
    {
     "name": "stdout",
     "output_type": "stream",
     "text": [
      "1.2999999999999998\n"
     ]
    }
   ],
   "source": [
    "import scipy\n",
    "iqr=scipy.stats.iqr(preprocessed_data, axis=None, rng=(25, 75), scale='raw', nan_policy='propagate', interpolation='linear', keepdims=False)\n",
    "print(iqr)"
   ]
  },
  {
   "cell_type": "code",
   "execution_count": null,
   "metadata": {},
   "outputs": [],
   "source": []
  },
  {
   "cell_type": "code",
   "execution_count": null,
   "metadata": {},
   "outputs": [],
   "source": []
  }
 ],
 "metadata": {
  "kernelspec": {
   "display_name": "Python 3",
   "language": "python",
   "name": "python3"
  },
  "language_info": {
   "codemirror_mode": {
    "name": "ipython",
    "version": 3
   },
   "file_extension": ".py",
   "mimetype": "text/x-python",
   "name": "python",
   "nbconvert_exporter": "python",
   "pygments_lexer": "ipython3",
   "version": "3.7.1"
  }
 },
 "nbformat": 4,
 "nbformat_minor": 2
}
