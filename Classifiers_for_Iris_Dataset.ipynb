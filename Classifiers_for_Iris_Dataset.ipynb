{
  "nbformat": 4,
  "nbformat_minor": 0,
  "metadata": {
    "colab": {
      "name": "Classifiers for Iris Dataset.ipynb",
      "version": "0.3.2",
      "provenance": [],
      "include_colab_link": true
    },
    "kernelspec": {
      "name": "python3",
      "display_name": "Python 3"
    }
  },
  "cells": [
    {
      "cell_type": "markdown",
      "metadata": {
        "id": "view-in-github",
        "colab_type": "text"
      },
      "source": [
        "<a href=\"https://colab.research.google.com/github/vijayakrishna12345/Data-Analytics-Lab/blob/master/Classifiers_for_Iris_Dataset.ipynb\" target=\"_parent\"><img src=\"https://colab.research.google.com/assets/colab-badge.svg\" alt=\"Open In Colab\"/></a>"
      ]
    },
    {
      "cell_type": "code",
      "metadata": {
        "id": "Q1Ciem2mgw7_",
        "colab_type": "code",
        "outputId": "9cbd5fe4-c61a-4246-d0d1-02c8c820d875",
        "colab": {
          "base_uri": "https://localhost:8080/",
          "height": 34
        }
      },
      "source": [
        "from google.colab import drive\n",
        "drive.mount('/content/gdrive')"
      ],
      "execution_count": 0,
      "outputs": [
        {
          "output_type": "stream",
          "text": [
            "Drive already mounted at /content/gdrive; to attempt to forcibly remount, call drive.mount(\"/content/gdrive\", force_remount=True).\n"
          ],
          "name": "stdout"
        }
      ]
    },
    {
      "cell_type": "code",
      "metadata": {
        "id": "3cBMABYKw77r",
        "colab_type": "code",
        "colab": {}
      },
      "source": [
        "from sklearn import tree\n",
        "from sklearn.model_selection import train_test_split\n",
        "from sklearn.metrics import confusion_matrix ,recall_score ,accuracy_score,average_precision_score\n",
        "from sklearn.neighbors import KNeighborsClassifier\n",
        "from sklearn.naive_bayes import GaussianNB"
      ],
      "execution_count": 0,
      "outputs": []
    },
    {
      "cell_type": "code",
      "metadata": {
        "id": "YFZn5K5LkxXG",
        "colab_type": "code",
        "colab": {}
      },
      "source": [
        "from sklearn.datasets import load_iris\n",
        "iris = load_iris()"
      ],
      "execution_count": 0,
      "outputs": []
    },
    {
      "cell_type": "code",
      "metadata": {
        "id": "vCpFSdwjssB1",
        "colab_type": "code",
        "colab": {}
      },
      "source": [
        "X_train, X_test, y_train, y_test = train_test_split(iris.data, iris.target, test_size=0.2, random_state=0)"
      ],
      "execution_count": 0,
      "outputs": []
    },
    {
      "cell_type": "code",
      "metadata": {
        "id": "Wv22z3b0s2pO",
        "colab_type": "code",
        "colab": {}
      },
      "source": [
        "#Decision Tree\n",
        "\n",
        "clf = tree.DecisionTreeClassifier()\n",
        "clf = clf.fit(X_train, y_train)"
      ],
      "execution_count": 0,
      "outputs": []
    },
    {
      "cell_type": "code",
      "metadata": {
        "id": "XviI356GjPI2",
        "colab_type": "code",
        "outputId": "5b0e6b53-65f5-408d-eda0-f9b9baec8ddc",
        "colab": {
          "base_uri": "https://localhost:8080/",
          "height": 558
        }
      },
      "source": [
        "tree.plot_tree(clf.fit(iris.data, iris.target)) "
      ],
      "execution_count": 0,
      "outputs": [
        {
          "output_type": "execute_result",
          "data": {
            "text/plain": [
              "[Text(167.4, 199.32, 'X[3] <= 0.8\\ngini = 0.667\\nsamples = 150\\nvalue = [50, 50, 50]'),\n",
              " Text(141.64615384615385, 163.07999999999998, 'gini = 0.0\\nsamples = 50\\nvalue = [50, 0, 0]'),\n",
              " Text(193.15384615384616, 163.07999999999998, 'X[3] <= 1.75\\ngini = 0.5\\nsamples = 100\\nvalue = [0, 50, 50]'),\n",
              " Text(103.01538461538462, 126.83999999999999, 'X[2] <= 4.95\\ngini = 0.168\\nsamples = 54\\nvalue = [0, 49, 5]'),\n",
              " Text(51.50769230769231, 90.6, 'X[3] <= 1.65\\ngini = 0.041\\nsamples = 48\\nvalue = [0, 47, 1]'),\n",
              " Text(25.753846153846155, 54.359999999999985, 'gini = 0.0\\nsamples = 47\\nvalue = [0, 47, 0]'),\n",
              " Text(77.26153846153846, 54.359999999999985, 'gini = 0.0\\nsamples = 1\\nvalue = [0, 0, 1]'),\n",
              " Text(154.52307692307693, 90.6, 'X[3] <= 1.55\\ngini = 0.444\\nsamples = 6\\nvalue = [0, 2, 4]'),\n",
              " Text(128.76923076923077, 54.359999999999985, 'gini = 0.0\\nsamples = 3\\nvalue = [0, 0, 3]'),\n",
              " Text(180.27692307692308, 54.359999999999985, 'X[2] <= 5.45\\ngini = 0.444\\nsamples = 3\\nvalue = [0, 2, 1]'),\n",
              " Text(154.52307692307693, 18.119999999999976, 'gini = 0.0\\nsamples = 2\\nvalue = [0, 2, 0]'),\n",
              " Text(206.03076923076924, 18.119999999999976, 'gini = 0.0\\nsamples = 1\\nvalue = [0, 0, 1]'),\n",
              " Text(283.2923076923077, 126.83999999999999, 'X[2] <= 4.85\\ngini = 0.043\\nsamples = 46\\nvalue = [0, 1, 45]'),\n",
              " Text(257.53846153846155, 90.6, 'X[0] <= 5.95\\ngini = 0.444\\nsamples = 3\\nvalue = [0, 1, 2]'),\n",
              " Text(231.7846153846154, 54.359999999999985, 'gini = 0.0\\nsamples = 1\\nvalue = [0, 1, 0]'),\n",
              " Text(283.2923076923077, 54.359999999999985, 'gini = 0.0\\nsamples = 2\\nvalue = [0, 0, 2]'),\n",
              " Text(309.04615384615386, 90.6, 'gini = 0.0\\nsamples = 43\\nvalue = [0, 0, 43]')]"
            ]
          },
          "metadata": {
            "tags": []
          },
          "execution_count": 81
        },
        {
          "output_type": "display_data",
          "data": {
            "image/png": "[encoded data removed]",
            "text/plain": [
              "<Figure size 432x288 with 1 Axes>"
            ]
          },
          "metadata": {
            "tags": []
          }
        }
      ]
    },
    {
      "cell_type": "code",
      "metadata": {
        "id": "JzaQUUIPlSrK",
        "colab_type": "code",
        "outputId": "a006cda6-4873-40b5-bd43-77a9f9718d97",
        "colab": {
          "base_uri": "https://localhost:8080/",
          "height": 34
        }
      },
      "source": [
        "import graphviz \n",
        "dot_data = tree.export_graphviz(clf, out_file=None) \n",
        "graph = graphviz.Source(dot_data) \n",
        "graph.render(\"iris\") "
      ],
      "execution_count": 0,
      "outputs": [
        {
          "output_type": "execute_result",
          "data": {
            "text/plain": [
              "'iris.pdf'"
            ]
          },
          "metadata": {
            "tags": []
          },
          "execution_count": 82
        }
      ]
    },
    {
      "cell_type": "code",
      "metadata": {
        "id": "VAJTvt6TljUU",
        "colab_type": "code",
        "outputId": "d773745f-5ed2-423c-efc6-cb489c6cb87d",
        "colab": {
          "base_uri": "https://localhost:8080/",
          "height": 916
        }
      },
      "source": [
        "dot_data = tree.export_graphviz(clf, out_file=None, \n",
        "...                      feature_names=iris.feature_names,  \n",
        "...                      class_names=iris.target_names,  \n",
        "...                      filled=True, rounded=True,  \n",
        "...                      special_characters=True)  \n",
        "graph = graphviz.Source(dot_data)  \n",
        "graph "
      ],
      "execution_count": 0,
      "outputs": [
        {
          "output_type": "execute_result",
          "data": {
            "text/plain": [
              "<graphviz.files.Source at 0x7f8ee40619e8>"
            ],
            "image/svg+xml": "<?xml version=\"1.0\" encoding=\"UTF-8\" standalone=\"no\"?>\n<!DOCTYPE svg PUBLIC \"-//W3C//DTD SVG 1.1//EN\"\n \"http://www.w3.org/Graphics/SVG/1.1/DTD/svg11.dtd\">\n<!-- Generated by graphviz version 2.40.1 (20161225.0304)\n -->\n<!-- Title: Tree Pages: 1 -->\n<svg width=\"905pt\" height=\"671pt\"\n viewBox=\"0.00 0.00 904.50 671.00\" xmlns=\"http://www.w3.org/2000/svg\" xmlns:xlink=\"http://www.w3.org/1999/xlink\">\n<g id=\"graph0\" class=\"graph\" transform=\"scale(1 1) rotate(0) translate(4 667)\">\n<title>Tree</title>\n<polygon fill=\"#ffffff\" stroke=\"transparent\" points=\"-4,4 -4,-667 900.5,-667 900.5,4 -4,4\"/>\n<!-- 0 -->\n<g id=\"node1\" class=\"node\">\n<title>0</title>\n<path fill=\"#ffffff\" stroke=\"#000000\" d=\"M536.5,-663C536.5,-663 407.5,-663 407.5,-663 401.5,-663 395.5,-657 395.5,-651 395.5,-651 395.5,-592 395.5,-592 395.5,-586 401.5,-580 407.5,-580 407.5,-580 536.5,-580 536.5,-580 542.5,-580 548.5,-586 548.5,-592 548.5,-592 548.5,-651 548.5,-651 548.5,-657 542.5,-663 536.5,-663\"/>\n<text text-anchor=\"start\" x=\"403.5\" y=\"-647.8\" font-family=\"Helvetica,sans-Serif\" font-size=\"14.00\" fill=\"#000000\">petal width (cm) ≤ 0.8</text>\n<text text-anchor=\"start\" x=\"434\" y=\"-632.8\" font-family=\"Helvetica,sans-Serif\" font-size=\"14.00\" fill=\"#000000\">gini = 0.667</text>\n<text text-anchor=\"start\" x=\"424\" y=\"-617.8\" font-family=\"Helvetica,sans-Serif\" font-size=\"14.00\" fill=\"#000000\">samples = 150</text>\n<text text-anchor=\"start\" x=\"410\" y=\"-602.8\" font-family=\"Helvetica,sans-Serif\" font-size=\"14.00\" fill=\"#000000\">value = [50, 50, 50]</text>\n<text text-anchor=\"start\" x=\"425\" y=\"-587.8\" font-family=\"Helvetica,sans-Serif\" font-size=\"14.00\" fill=\"#000000\">class = setosa</text>\n</g>\n<!-- 1 -->\n<g id=\"node2\" class=\"node\">\n<title>1</title>\n<path fill=\"#e58139\" stroke=\"#000000\" d=\"M441.5,-536.5C441.5,-536.5 342.5,-536.5 342.5,-536.5 336.5,-536.5 330.5,-530.5 330.5,-524.5 330.5,-524.5 330.5,-480.5 330.5,-480.5 330.5,-474.5 336.5,-468.5 342.5,-468.5 342.5,-468.5 441.5,-468.5 441.5,-468.5 447.5,-468.5 453.5,-474.5 453.5,-480.5 453.5,-480.5 453.5,-524.5 453.5,-524.5 453.5,-530.5 447.5,-536.5 441.5,-536.5\"/>\n<text text-anchor=\"start\" x=\"362.5\" y=\"-521.3\" font-family=\"Helvetica,sans-Serif\" font-size=\"14.00\" fill=\"#000000\">gini = 0.0</text>\n<text text-anchor=\"start\" x=\"348\" y=\"-506.3\" font-family=\"Helvetica,sans-Serif\" font-size=\"14.00\" fill=\"#000000\">samples = 50</text>\n<text text-anchor=\"start\" x=\"338.5\" y=\"-491.3\" font-family=\"Helvetica,sans-Serif\" font-size=\"14.00\" fill=\"#000000\">value = [50, 0, 0]</text>\n<text text-anchor=\"start\" x=\"345\" y=\"-476.3\" font-family=\"Helvetica,sans-Serif\" font-size=\"14.00\" fill=\"#000000\">class = setosa</text>\n</g>\n<!-- 0&#45;&gt;1 -->\n<g id=\"edge1\" class=\"edge\">\n<title>0&#45;&gt;1</title>\n<path fill=\"none\" stroke=\"#000000\" d=\"M444.0199,-579.8796C436.4797,-568.6636 428.3113,-556.5131 420.7309,-545.2372\"/>\n<polygon fill=\"#000000\" stroke=\"#000000\" points=\"423.5527,-543.1612 415.0689,-536.8149 417.7434,-547.0667 423.5527,-543.1612\"/>\n<text text-anchor=\"middle\" x=\"410.2608\" y=\"-557.6482\" font-family=\"Helvetica,sans-Serif\" font-size=\"14.00\" fill=\"#000000\">True</text>\n</g>\n<!-- 2 -->\n<g id=\"node3\" class=\"node\">\n<title>2</title>\n<path fill=\"#ffffff\" stroke=\"#000000\" d=\"M620.5,-544C620.5,-544 483.5,-544 483.5,-544 477.5,-544 471.5,-538 471.5,-532 471.5,-532 471.5,-473 471.5,-473 471.5,-467 477.5,-461 483.5,-461 483.5,-461 620.5,-461 620.5,-461 626.5,-461 632.5,-467 632.5,-473 632.5,-473 632.5,-532 632.5,-532 632.5,-538 626.5,-544 620.5,-544\"/>\n<text text-anchor=\"start\" x=\"479.5\" y=\"-528.8\" font-family=\"Helvetica,sans-Serif\" font-size=\"14.00\" fill=\"#000000\">petal width (cm) ≤ 1.75</text>\n<text text-anchor=\"start\" x=\"522.5\" y=\"-513.8\" font-family=\"Helvetica,sans-Serif\" font-size=\"14.00\" fill=\"#000000\">gini = 0.5</text>\n<text text-anchor=\"start\" x=\"504\" y=\"-498.8\" font-family=\"Helvetica,sans-Serif\" font-size=\"14.00\" fill=\"#000000\">samples = 100</text>\n<text text-anchor=\"start\" x=\"494.5\" y=\"-483.8\" font-family=\"Helvetica,sans-Serif\" font-size=\"14.00\" fill=\"#000000\">value = [0, 50, 50]</text>\n<text text-anchor=\"start\" x=\"496\" y=\"-468.8\" font-family=\"Helvetica,sans-Serif\" font-size=\"14.00\" fill=\"#000000\">class = versicolor</text>\n</g>\n<!-- 0&#45;&gt;2 -->\n<g id=\"edge2\" class=\"edge\">\n<title>0&#45;&gt;2</title>\n<path fill=\"none\" stroke=\"#000000\" d=\"M499.9801,-579.8796C505.8531,-571.1434 512.1073,-561.8404 518.1679,-552.8253\"/>\n<polygon fill=\"#000000\" stroke=\"#000000\" points=\"521.2259,-554.5498 523.9005,-544.2981 515.4166,-550.6444 521.2259,-554.5498\"/>\n<text text-anchor=\"middle\" x=\"528.7085\" y=\"-565.1314\" font-family=\"Helvetica,sans-Serif\" font-size=\"14.00\" fill=\"#000000\">False</text>\n</g>\n<!-- 3 -->\n<g id=\"node4\" class=\"node\">\n<title>3</title>\n<path fill=\"#4de88e\" stroke=\"#000000\" d=\"M506.5,-425C506.5,-425 363.5,-425 363.5,-425 357.5,-425 351.5,-419 351.5,-413 351.5,-413 351.5,-354 351.5,-354 351.5,-348 357.5,-342 363.5,-342 363.5,-342 506.5,-342 506.5,-342 512.5,-342 518.5,-348 518.5,-354 518.5,-354 518.5,-413 518.5,-413 518.5,-419 512.5,-425 506.5,-425\"/>\n<text text-anchor=\"start\" x=\"359.5\" y=\"-409.8\" font-family=\"Helvetica,sans-Serif\" font-size=\"14.00\" fill=\"#000000\">petal length (cm) ≤ 4.95</text>\n<text text-anchor=\"start\" x=\"397\" y=\"-394.8\" font-family=\"Helvetica,sans-Serif\" font-size=\"14.00\" fill=\"#000000\">gini = 0.168</text>\n<text text-anchor=\"start\" x=\"391\" y=\"-379.8\" font-family=\"Helvetica,sans-Serif\" font-size=\"14.00\" fill=\"#000000\">samples = 54</text>\n<text text-anchor=\"start\" x=\"381.5\" y=\"-364.8\" font-family=\"Helvetica,sans-Serif\" font-size=\"14.00\" fill=\"#000000\">value = [0, 49, 5]</text>\n<text text-anchor=\"start\" x=\"379\" y=\"-349.8\" font-family=\"Helvetica,sans-Serif\" font-size=\"14.00\" fill=\"#000000\">class = versicolor</text>\n</g>\n<!-- 2&#45;&gt;3 -->\n<g id=\"edge3\" class=\"edge\">\n<title>2&#45;&gt;3</title>\n<path fill=\"none\" stroke=\"#000000\" d=\"M511.0791,-460.8796C502.047,-451.6931 492.3987,-441.8798 483.1112,-432.4336\"/>\n<polygon fill=\"#000000\" stroke=\"#000000\" points=\"485.6023,-429.975 476.0956,-425.2981 480.6107,-434.8827 485.6023,-429.975\"/>\n</g>\n<!-- 12 -->\n<g id=\"node13\" class=\"node\">\n<title>12</title>\n<path fill=\"#843de6\" stroke=\"#000000\" d=\"M741.5,-425C741.5,-425 598.5,-425 598.5,-425 592.5,-425 586.5,-419 586.5,-413 586.5,-413 586.5,-354 586.5,-354 586.5,-348 592.5,-342 598.5,-342 598.5,-342 741.5,-342 741.5,-342 747.5,-342 753.5,-348 753.5,-354 753.5,-354 753.5,-413 753.5,-413 753.5,-419 747.5,-425 741.5,-425\"/>\n<text text-anchor=\"start\" x=\"594.5\" y=\"-409.8\" font-family=\"Helvetica,sans-Serif\" font-size=\"14.00\" fill=\"#000000\">petal length (cm) ≤ 4.85</text>\n<text text-anchor=\"start\" x=\"632\" y=\"-394.8\" font-family=\"Helvetica,sans-Serif\" font-size=\"14.00\" fill=\"#000000\">gini = 0.043</text>\n<text text-anchor=\"start\" x=\"626\" y=\"-379.8\" font-family=\"Helvetica,sans-Serif\" font-size=\"14.00\" fill=\"#000000\">samples = 46</text>\n<text text-anchor=\"start\" x=\"616.5\" y=\"-364.8\" font-family=\"Helvetica,sans-Serif\" font-size=\"14.00\" fill=\"#000000\">value = [0, 1, 45]</text>\n<text text-anchor=\"start\" x=\"618.5\" y=\"-349.8\" font-family=\"Helvetica,sans-Serif\" font-size=\"14.00\" fill=\"#000000\">class = virginica</text>\n</g>\n<!-- 2&#45;&gt;12 -->\n<g id=\"edge12\" class=\"edge\">\n<title>2&#45;&gt;12</title>\n<path fill=\"none\" stroke=\"#000000\" d=\"M593.2707,-460.8796C602.3799,-451.6931 612.1108,-441.8798 621.4776,-432.4336\"/>\n<polygon fill=\"#000000\" stroke=\"#000000\" points=\"623.9973,-434.8634 628.5532,-425.2981 619.0267,-429.9345 623.9973,-434.8634\"/>\n</g>\n<!-- 4 -->\n<g id=\"node5\" class=\"node\">\n<title>4</title>\n<path fill=\"#3de684\" stroke=\"#000000\" d=\"M274.5,-306C274.5,-306 137.5,-306 137.5,-306 131.5,-306 125.5,-300 125.5,-294 125.5,-294 125.5,-235 125.5,-235 125.5,-229 131.5,-223 137.5,-223 137.5,-223 274.5,-223 274.5,-223 280.5,-223 286.5,-229 286.5,-235 286.5,-235 286.5,-294 286.5,-294 286.5,-300 280.5,-306 274.5,-306\"/>\n<text text-anchor=\"start\" x=\"133.5\" y=\"-290.8\" font-family=\"Helvetica,sans-Serif\" font-size=\"14.00\" fill=\"#000000\">petal width (cm) ≤ 1.65</text>\n<text text-anchor=\"start\" x=\"168\" y=\"-275.8\" font-family=\"Helvetica,sans-Serif\" font-size=\"14.00\" fill=\"#000000\">gini = 0.041</text>\n<text text-anchor=\"start\" x=\"162\" y=\"-260.8\" font-family=\"Helvetica,sans-Serif\" font-size=\"14.00\" fill=\"#000000\">samples = 48</text>\n<text text-anchor=\"start\" x=\"152.5\" y=\"-245.8\" font-family=\"Helvetica,sans-Serif\" font-size=\"14.00\" fill=\"#000000\">value = [0, 47, 1]</text>\n<text text-anchor=\"start\" x=\"150\" y=\"-230.8\" font-family=\"Helvetica,sans-Serif\" font-size=\"14.00\" fill=\"#000000\">class = versicolor</text>\n</g>\n<!-- 3&#45;&gt;4 -->\n<g id=\"edge4\" class=\"edge\">\n<title>3&#45;&gt;4</title>\n<path fill=\"none\" stroke=\"#000000\" d=\"M354.9069,-341.8796C335.5571,-331.8244 314.7621,-321.0183 295.0301,-310.7645\"/>\n<polygon fill=\"#000000\" stroke=\"#000000\" points=\"296.5352,-307.6024 286.0479,-306.0969 293.3074,-313.8138 296.5352,-307.6024\"/>\n</g>\n<!-- 7 -->\n<g id=\"node8\" class=\"node\">\n<title>7</title>\n<path fill=\"#c09cf2\" stroke=\"#000000\" d=\"M503.5,-306C503.5,-306 366.5,-306 366.5,-306 360.5,-306 354.5,-300 354.5,-294 354.5,-294 354.5,-235 354.5,-235 354.5,-229 360.5,-223 366.5,-223 366.5,-223 503.5,-223 503.5,-223 509.5,-223 515.5,-229 515.5,-235 515.5,-235 515.5,-294 515.5,-294 515.5,-300 509.5,-306 503.5,-306\"/>\n<text text-anchor=\"start\" x=\"362.5\" y=\"-290.8\" font-family=\"Helvetica,sans-Serif\" font-size=\"14.00\" fill=\"#000000\">petal width (cm) ≤ 1.55</text>\n<text text-anchor=\"start\" x=\"397\" y=\"-275.8\" font-family=\"Helvetica,sans-Serif\" font-size=\"14.00\" fill=\"#000000\">gini = 0.444</text>\n<text text-anchor=\"start\" x=\"395.5\" y=\"-260.8\" font-family=\"Helvetica,sans-Serif\" font-size=\"14.00\" fill=\"#000000\">samples = 6</text>\n<text text-anchor=\"start\" x=\"385.5\" y=\"-245.8\" font-family=\"Helvetica,sans-Serif\" font-size=\"14.00\" fill=\"#000000\">value = [0, 2, 4]</text>\n<text text-anchor=\"start\" x=\"383.5\" y=\"-230.8\" font-family=\"Helvetica,sans-Serif\" font-size=\"14.00\" fill=\"#000000\">class = virginica</text>\n</g>\n<!-- 3&#45;&gt;7 -->\n<g id=\"edge7\" class=\"edge\">\n<title>3&#45;&gt;7</title>\n<path fill=\"none\" stroke=\"#000000\" d=\"M435,-341.8796C435,-333.6838 435,-324.9891 435,-316.5013\"/>\n<polygon fill=\"#000000\" stroke=\"#000000\" points=\"438.5001,-316.298 435,-306.2981 431.5001,-316.2981 438.5001,-316.298\"/>\n</g>\n<!-- 5 -->\n<g id=\"node6\" class=\"node\">\n<title>5</title>\n<path fill=\"#39e581\" stroke=\"#000000\" d=\"M116,-179.5C116,-179.5 12,-179.5 12,-179.5 6,-179.5 0,-173.5 0,-167.5 0,-167.5 0,-123.5 0,-123.5 0,-117.5 6,-111.5 12,-111.5 12,-111.5 116,-111.5 116,-111.5 122,-111.5 128,-117.5 128,-123.5 128,-123.5 128,-167.5 128,-167.5 128,-173.5 122,-179.5 116,-179.5\"/>\n<text text-anchor=\"start\" x=\"34.5\" y=\"-164.3\" font-family=\"Helvetica,sans-Serif\" font-size=\"14.00\" fill=\"#000000\">gini = 0.0</text>\n<text text-anchor=\"start\" x=\"20\" y=\"-149.3\" font-family=\"Helvetica,sans-Serif\" font-size=\"14.00\" fill=\"#000000\">samples = 47</text>\n<text text-anchor=\"start\" x=\"10.5\" y=\"-134.3\" font-family=\"Helvetica,sans-Serif\" font-size=\"14.00\" fill=\"#000000\">value = [0, 47, 0]</text>\n<text text-anchor=\"start\" x=\"8\" y=\"-119.3\" font-family=\"Helvetica,sans-Serif\" font-size=\"14.00\" fill=\"#000000\">class = versicolor</text>\n</g>\n<!-- 4&#45;&gt;5 -->\n<g id=\"edge5\" class=\"edge\">\n<title>4&#45;&gt;5</title>\n<path fill=\"none\" stroke=\"#000000\" d=\"M156.3353,-222.8796C142.1642,-211.0038 126.743,-198.0804 112.6342,-186.2568\"/>\n<polygon fill=\"#000000\" stroke=\"#000000\" points=\"114.8598,-183.5554 104.9472,-179.8149 110.3637,-188.9206 114.8598,-183.5554\"/>\n</g>\n<!-- 6 -->\n<g id=\"node7\" class=\"node\">\n<title>6</title>\n<path fill=\"#8139e5\" stroke=\"#000000\" d=\"M253.5,-179.5C253.5,-179.5 158.5,-179.5 158.5,-179.5 152.5,-179.5 146.5,-173.5 146.5,-167.5 146.5,-167.5 146.5,-123.5 146.5,-123.5 146.5,-117.5 152.5,-111.5 158.5,-111.5 158.5,-111.5 253.5,-111.5 253.5,-111.5 259.5,-111.5 265.5,-117.5 265.5,-123.5 265.5,-123.5 265.5,-167.5 265.5,-167.5 265.5,-173.5 259.5,-179.5 253.5,-179.5\"/>\n<text text-anchor=\"start\" x=\"176.5\" y=\"-164.3\" font-family=\"Helvetica,sans-Serif\" font-size=\"14.00\" fill=\"#000000\">gini = 0.0</text>\n<text text-anchor=\"start\" x=\"166.5\" y=\"-149.3\" font-family=\"Helvetica,sans-Serif\" font-size=\"14.00\" fill=\"#000000\">samples = 1</text>\n<text text-anchor=\"start\" x=\"156.5\" y=\"-134.3\" font-family=\"Helvetica,sans-Serif\" font-size=\"14.00\" fill=\"#000000\">value = [0, 0, 1]</text>\n<text text-anchor=\"start\" x=\"154.5\" y=\"-119.3\" font-family=\"Helvetica,sans-Serif\" font-size=\"14.00\" fill=\"#000000\">class = virginica</text>\n</g>\n<!-- 4&#45;&gt;6 -->\n<g id=\"edge6\" class=\"edge\">\n<title>4&#45;&gt;6</title>\n<path fill=\"none\" stroke=\"#000000\" d=\"M206,-222.8796C206,-212.2134 206,-200.7021 206,-189.9015\"/>\n<polygon fill=\"#000000\" stroke=\"#000000\" points=\"209.5001,-189.8149 206,-179.8149 202.5001,-189.815 209.5001,-189.8149\"/>\n</g>\n<!-- 8 -->\n<g id=\"node9\" class=\"node\">\n<title>8</title>\n<path fill=\"#8139e5\" stroke=\"#000000\" d=\"M390.5,-179.5C390.5,-179.5 295.5,-179.5 295.5,-179.5 289.5,-179.5 283.5,-173.5 283.5,-167.5 283.5,-167.5 283.5,-123.5 283.5,-123.5 283.5,-117.5 289.5,-111.5 295.5,-111.5 295.5,-111.5 390.5,-111.5 390.5,-111.5 396.5,-111.5 402.5,-117.5 402.5,-123.5 402.5,-123.5 402.5,-167.5 402.5,-167.5 402.5,-173.5 396.5,-179.5 390.5,-179.5\"/>\n<text text-anchor=\"start\" x=\"313.5\" y=\"-164.3\" font-family=\"Helvetica,sans-Serif\" font-size=\"14.00\" fill=\"#000000\">gini = 0.0</text>\n<text text-anchor=\"start\" x=\"303.5\" y=\"-149.3\" font-family=\"Helvetica,sans-Serif\" font-size=\"14.00\" fill=\"#000000\">samples = 3</text>\n<text text-anchor=\"start\" x=\"293.5\" y=\"-134.3\" font-family=\"Helvetica,sans-Serif\" font-size=\"14.00\" fill=\"#000000\">value = [0, 0, 3]</text>\n<text text-anchor=\"start\" x=\"291.5\" y=\"-119.3\" font-family=\"Helvetica,sans-Serif\" font-size=\"14.00\" fill=\"#000000\">class = virginica</text>\n</g>\n<!-- 7&#45;&gt;8 -->\n<g id=\"edge8\" class=\"edge\">\n<title>7&#45;&gt;8</title>\n<path fill=\"none\" stroke=\"#000000\" d=\"M402.8229,-222.8796C394.0667,-211.5536 384.5738,-199.2748 375.7844,-187.9058\"/>\n<polygon fill=\"#000000\" stroke=\"#000000\" points=\"378.4146,-185.5856 369.5292,-179.8149 372.8766,-189.8671 378.4146,-185.5856\"/>\n</g>\n<!-- 9 -->\n<g id=\"node10\" class=\"node\">\n<title>9</title>\n<path fill=\"#9cf2c0\" stroke=\"#000000\" d=\"M575.5,-187C575.5,-187 432.5,-187 432.5,-187 426.5,-187 420.5,-181 420.5,-175 420.5,-175 420.5,-116 420.5,-116 420.5,-110 426.5,-104 432.5,-104 432.5,-104 575.5,-104 575.5,-104 581.5,-104 587.5,-110 587.5,-116 587.5,-116 587.5,-175 587.5,-175 587.5,-181 581.5,-187 575.5,-187\"/>\n<text text-anchor=\"start\" x=\"428.5\" y=\"-171.8\" font-family=\"Helvetica,sans-Serif\" font-size=\"14.00\" fill=\"#000000\">petal length (cm) ≤ 5.45</text>\n<text text-anchor=\"start\" x=\"466\" y=\"-156.8\" font-family=\"Helvetica,sans-Serif\" font-size=\"14.00\" fill=\"#000000\">gini = 0.444</text>\n<text text-anchor=\"start\" x=\"464.5\" y=\"-141.8\" font-family=\"Helvetica,sans-Serif\" font-size=\"14.00\" fill=\"#000000\">samples = 3</text>\n<text text-anchor=\"start\" x=\"454.5\" y=\"-126.8\" font-family=\"Helvetica,sans-Serif\" font-size=\"14.00\" fill=\"#000000\">value = [0, 2, 1]</text>\n<text text-anchor=\"start\" x=\"448\" y=\"-111.8\" font-family=\"Helvetica,sans-Serif\" font-size=\"14.00\" fill=\"#000000\">class = versicolor</text>\n</g>\n<!-- 7&#45;&gt;9 -->\n<g id=\"edge9\" class=\"edge\">\n<title>7&#45;&gt;9</title>\n<path fill=\"none\" stroke=\"#000000\" d=\"M459.1329,-222.8796C464.1461,-214.2335 469.4813,-205.0322 474.6581,-196.1042\"/>\n<polygon fill=\"#000000\" stroke=\"#000000\" points=\"477.7758,-197.7047 479.7641,-187.2981 471.7202,-194.1934 477.7758,-197.7047\"/>\n</g>\n<!-- 10 -->\n<g id=\"node11\" class=\"node\">\n<title>10</title>\n<path fill=\"#39e581\" stroke=\"#000000\" d=\"M485,-68C485,-68 381,-68 381,-68 375,-68 369,-62 369,-56 369,-56 369,-12 369,-12 369,-6 375,0 381,0 381,0 485,0 485,0 491,0 497,-6 497,-12 497,-12 497,-56 497,-56 497,-62 491,-68 485,-68\"/>\n<text text-anchor=\"start\" x=\"403.5\" y=\"-52.8\" font-family=\"Helvetica,sans-Serif\" font-size=\"14.00\" fill=\"#000000\">gini = 0.0</text>\n<text text-anchor=\"start\" x=\"393.5\" y=\"-37.8\" font-family=\"Helvetica,sans-Serif\" font-size=\"14.00\" fill=\"#000000\">samples = 2</text>\n<text text-anchor=\"start\" x=\"383.5\" y=\"-22.8\" font-family=\"Helvetica,sans-Serif\" font-size=\"14.00\" fill=\"#000000\">value = [0, 2, 0]</text>\n<text text-anchor=\"start\" x=\"377\" y=\"-7.8\" font-family=\"Helvetica,sans-Serif\" font-size=\"14.00\" fill=\"#000000\">class = versicolor</text>\n</g>\n<!-- 9&#45;&gt;10 -->\n<g id=\"edge10\" class=\"edge\">\n<title>9&#45;&gt;10</title>\n<path fill=\"none\" stroke=\"#000000\" d=\"M477.5622,-103.9815C471.944,-95.1585 466.0012,-85.8258 460.3497,-76.9506\"/>\n<polygon fill=\"#000000\" stroke=\"#000000\" points=\"463.1416,-74.8188 454.8181,-68.2637 457.2371,-78.5787 463.1416,-74.8188\"/>\n</g>\n<!-- 11 -->\n<g id=\"node12\" class=\"node\">\n<title>11</title>\n<path fill=\"#8139e5\" stroke=\"#000000\" d=\"M622.5,-68C622.5,-68 527.5,-68 527.5,-68 521.5,-68 515.5,-62 515.5,-56 515.5,-56 515.5,-12 515.5,-12 515.5,-6 521.5,0 527.5,0 527.5,0 622.5,0 622.5,0 628.5,0 634.5,-6 634.5,-12 634.5,-12 634.5,-56 634.5,-56 634.5,-62 628.5,-68 622.5,-68\"/>\n<text text-anchor=\"start\" x=\"545.5\" y=\"-52.8\" font-family=\"Helvetica,sans-Serif\" font-size=\"14.00\" fill=\"#000000\">gini = 0.0</text>\n<text text-anchor=\"start\" x=\"535.5\" y=\"-37.8\" font-family=\"Helvetica,sans-Serif\" font-size=\"14.00\" fill=\"#000000\">samples = 1</text>\n<text text-anchor=\"start\" x=\"525.5\" y=\"-22.8\" font-family=\"Helvetica,sans-Serif\" font-size=\"14.00\" fill=\"#000000\">value = [0, 0, 1]</text>\n<text text-anchor=\"start\" x=\"523.5\" y=\"-7.8\" font-family=\"Helvetica,sans-Serif\" font-size=\"14.00\" fill=\"#000000\">class = virginica</text>\n</g>\n<!-- 9&#45;&gt;11 -->\n<g id=\"edge11\" class=\"edge\">\n<title>9&#45;&gt;11</title>\n<path fill=\"none\" stroke=\"#000000\" d=\"M530.4378,-103.9815C536.056,-95.1585 541.9988,-85.8258 547.6503,-76.9506\"/>\n<polygon fill=\"#000000\" stroke=\"#000000\" points=\"550.7629,-78.5787 553.1819,-68.2637 544.8584,-74.8188 550.7629,-78.5787\"/>\n</g>\n<!-- 13 -->\n<g id=\"node14\" class=\"node\">\n<title>13</title>\n<path fill=\"#c09cf2\" stroke=\"#000000\" d=\"M743.5,-306C743.5,-306 596.5,-306 596.5,-306 590.5,-306 584.5,-300 584.5,-294 584.5,-294 584.5,-235 584.5,-235 584.5,-229 590.5,-223 596.5,-223 596.5,-223 743.5,-223 743.5,-223 749.5,-223 755.5,-229 755.5,-235 755.5,-235 755.5,-294 755.5,-294 755.5,-300 749.5,-306 743.5,-306\"/>\n<text text-anchor=\"start\" x=\"592.5\" y=\"-290.8\" font-family=\"Helvetica,sans-Serif\" font-size=\"14.00\" fill=\"#000000\">sepal length (cm) ≤ 5.95</text>\n<text text-anchor=\"start\" x=\"632\" y=\"-275.8\" font-family=\"Helvetica,sans-Serif\" font-size=\"14.00\" fill=\"#000000\">gini = 0.444</text>\n<text text-anchor=\"start\" x=\"630.5\" y=\"-260.8\" font-family=\"Helvetica,sans-Serif\" font-size=\"14.00\" fill=\"#000000\">samples = 3</text>\n<text text-anchor=\"start\" x=\"620.5\" y=\"-245.8\" font-family=\"Helvetica,sans-Serif\" font-size=\"14.00\" fill=\"#000000\">value = [0, 1, 2]</text>\n<text text-anchor=\"start\" x=\"618.5\" y=\"-230.8\" font-family=\"Helvetica,sans-Serif\" font-size=\"14.00\" fill=\"#000000\">class = virginica</text>\n</g>\n<!-- 12&#45;&gt;13 -->\n<g id=\"edge13\" class=\"edge\">\n<title>12&#45;&gt;13</title>\n<path fill=\"none\" stroke=\"#000000\" d=\"M670,-341.8796C670,-333.6838 670,-324.9891 670,-316.5013\"/>\n<polygon fill=\"#000000\" stroke=\"#000000\" points=\"673.5001,-316.298 670,-306.2981 666.5001,-316.2981 673.5001,-316.298\"/>\n</g>\n<!-- 16 -->\n<g id=\"node17\" class=\"node\">\n<title>16</title>\n<path fill=\"#8139e5\" stroke=\"#000000\" d=\"M884.5,-298.5C884.5,-298.5 785.5,-298.5 785.5,-298.5 779.5,-298.5 773.5,-292.5 773.5,-286.5 773.5,-286.5 773.5,-242.5 773.5,-242.5 773.5,-236.5 779.5,-230.5 785.5,-230.5 785.5,-230.5 884.5,-230.5 884.5,-230.5 890.5,-230.5 896.5,-236.5 896.5,-242.5 896.5,-242.5 896.5,-286.5 896.5,-286.5 896.5,-292.5 890.5,-298.5 884.5,-298.5\"/>\n<text text-anchor=\"start\" x=\"805.5\" y=\"-283.3\" font-family=\"Helvetica,sans-Serif\" font-size=\"14.00\" fill=\"#000000\">gini = 0.0</text>\n<text text-anchor=\"start\" x=\"791\" y=\"-268.3\" font-family=\"Helvetica,sans-Serif\" font-size=\"14.00\" fill=\"#000000\">samples = 43</text>\n<text text-anchor=\"start\" x=\"781.5\" y=\"-253.3\" font-family=\"Helvetica,sans-Serif\" font-size=\"14.00\" fill=\"#000000\">value = [0, 0, 43]</text>\n<text text-anchor=\"start\" x=\"783.5\" y=\"-238.3\" font-family=\"Helvetica,sans-Serif\" font-size=\"14.00\" fill=\"#000000\">class = virginica</text>\n</g>\n<!-- 12&#45;&gt;16 -->\n<g id=\"edge16\" class=\"edge\">\n<title>12&#45;&gt;16</title>\n<path fill=\"none\" stroke=\"#000000\" d=\"M727.709,-341.8796C744.407,-329.8368 762.5987,-316.7167 779.1793,-304.7586\"/>\n<polygon fill=\"#000000\" stroke=\"#000000\" points=\"781.6232,-307.3113 787.6865,-298.623 777.5285,-301.6339 781.6232,-307.3113\"/>\n</g>\n<!-- 14 -->\n<g id=\"node15\" class=\"node\">\n<title>14</title>\n<path fill=\"#39e581\" stroke=\"#000000\" d=\"M722,-179.5C722,-179.5 618,-179.5 618,-179.5 612,-179.5 606,-173.5 606,-167.5 606,-167.5 606,-123.5 606,-123.5 606,-117.5 612,-111.5 618,-111.5 618,-111.5 722,-111.5 722,-111.5 728,-111.5 734,-117.5 734,-123.5 734,-123.5 734,-167.5 734,-167.5 734,-173.5 728,-179.5 722,-179.5\"/>\n<text text-anchor=\"start\" x=\"640.5\" y=\"-164.3\" font-family=\"Helvetica,sans-Serif\" font-size=\"14.00\" fill=\"#000000\">gini = 0.0</text>\n<text text-anchor=\"start\" x=\"630.5\" y=\"-149.3\" font-family=\"Helvetica,sans-Serif\" font-size=\"14.00\" fill=\"#000000\">samples = 1</text>\n<text text-anchor=\"start\" x=\"620.5\" y=\"-134.3\" font-family=\"Helvetica,sans-Serif\" font-size=\"14.00\" fill=\"#000000\">value = [0, 1, 0]</text>\n<text text-anchor=\"start\" x=\"614\" y=\"-119.3\" font-family=\"Helvetica,sans-Serif\" font-size=\"14.00\" fill=\"#000000\">class = versicolor</text>\n</g>\n<!-- 13&#45;&gt;14 -->\n<g id=\"edge14\" class=\"edge\">\n<title>13&#45;&gt;14</title>\n<path fill=\"none\" stroke=\"#000000\" d=\"M670,-222.8796C670,-212.2134 670,-200.7021 670,-189.9015\"/>\n<polygon fill=\"#000000\" stroke=\"#000000\" points=\"673.5001,-189.8149 670,-179.8149 666.5001,-189.815 673.5001,-189.8149\"/>\n</g>\n<!-- 15 -->\n<g id=\"node16\" class=\"node\">\n<title>15</title>\n<path fill=\"#8139e5\" stroke=\"#000000\" d=\"M859.5,-179.5C859.5,-179.5 764.5,-179.5 764.5,-179.5 758.5,-179.5 752.5,-173.5 752.5,-167.5 752.5,-167.5 752.5,-123.5 752.5,-123.5 752.5,-117.5 758.5,-111.5 764.5,-111.5 764.5,-111.5 859.5,-111.5 859.5,-111.5 865.5,-111.5 871.5,-117.5 871.5,-123.5 871.5,-123.5 871.5,-167.5 871.5,-167.5 871.5,-173.5 865.5,-179.5 859.5,-179.5\"/>\n<text text-anchor=\"start\" x=\"782.5\" y=\"-164.3\" font-family=\"Helvetica,sans-Serif\" font-size=\"14.00\" fill=\"#000000\">gini = 0.0</text>\n<text text-anchor=\"start\" x=\"772.5\" y=\"-149.3\" font-family=\"Helvetica,sans-Serif\" font-size=\"14.00\" fill=\"#000000\">samples = 2</text>\n<text text-anchor=\"start\" x=\"762.5\" y=\"-134.3\" font-family=\"Helvetica,sans-Serif\" font-size=\"14.00\" fill=\"#000000\">value = [0, 0, 2]</text>\n<text text-anchor=\"start\" x=\"760.5\" y=\"-119.3\" font-family=\"Helvetica,sans-Serif\" font-size=\"14.00\" fill=\"#000000\">class = virginica</text>\n</g>\n<!-- 13&#45;&gt;15 -->\n<g id=\"edge15\" class=\"edge\">\n<title>13&#45;&gt;15</title>\n<path fill=\"none\" stroke=\"#000000\" d=\"M719.6647,-222.8796C733.8358,-211.0038 749.257,-198.0804 763.3658,-186.2568\"/>\n<polygon fill=\"#000000\" stroke=\"#000000\" points=\"765.6363,-188.9206 771.0528,-179.8149 761.1402,-183.5554 765.6363,-188.9206\"/>\n</g>\n</g>\n</svg>\n"
          },
          "metadata": {
            "tags": []
          },
          "execution_count": 83
        }
      ]
    },
    {
      "cell_type": "code",
      "metadata": {
        "id": "56EopfqLlmvm",
        "colab_type": "code",
        "colab": {}
      },
      "source": [
        "y_pred=clf.predict(X_test)"
      ],
      "execution_count": 0,
      "outputs": []
    },
    {
      "cell_type": "code",
      "metadata": {
        "id": "x0e_LDAss8Cu",
        "colab_type": "code",
        "outputId": "042b800e-636c-4090-f0bd-74f0c1c67e75",
        "colab": {
          "base_uri": "https://localhost:8080/",
          "height": 85
        }
      },
      "source": [
        "print(\"Confusion Matrix:\")\n",
        "confusion_matrix(y_test, y_pred)"
      ],
      "execution_count": 0,
      "outputs": [
        {
          "output_type": "stream",
          "text": [
            "Confusion Matrix:\n"
          ],
          "name": "stdout"
        },
        {
          "output_type": "execute_result",
          "data": {
            "text/plain": [
              "array([[11,  0,  0],\n",
              "       [ 0, 13,  0],\n",
              "       [ 0,  0,  6]])"
            ]
          },
          "metadata": {
            "tags": []
          },
          "execution_count": 85
        }
      ]
    },
    {
      "cell_type": "code",
      "metadata": {
        "id": "NIyR_Fb8s91e",
        "colab_type": "code",
        "outputId": "ad9baee3-7e4e-4da8-aa02-25dcf42a3185",
        "colab": {
          "base_uri": "https://localhost:8080/",
          "height": 51
        }
      },
      "source": [
        "print(\"Precision Recall Score:\")\n",
        "recall_score(y_test, y_pred, average='macro')  "
      ],
      "execution_count": 0,
      "outputs": [
        {
          "output_type": "stream",
          "text": [
            "Precision Recall Score:\n"
          ],
          "name": "stdout"
        },
        {
          "output_type": "execute_result",
          "data": {
            "text/plain": [
              "1.0"
            ]
          },
          "metadata": {
            "tags": []
          },
          "execution_count": 86
        }
      ]
    },
    {
      "cell_type": "code",
      "metadata": {
        "id": "ntmUJDlVtCju",
        "colab_type": "code",
        "outputId": "21a7555c-eeb0-464d-bd60-3170a11d5281",
        "colab": {
          "base_uri": "https://localhost:8080/",
          "height": 34
        }
      },
      "source": [
        "y_score = accuracy_score(y_test, y_pred)\n",
        "print(\"Accuracy:\",y_score)"
      ],
      "execution_count": 0,
      "outputs": [
        {
          "output_type": "stream",
          "text": [
            "Accuracy: 1.0\n"
          ],
          "name": "stdout"
        }
      ]
    },
    {
      "cell_type": "code",
      "metadata": {
        "id": "Uh2v-E86tEie",
        "colab_type": "code",
        "outputId": "72096d0b-95a2-4d17-94f3-9459be8684a4",
        "colab": {
          "base_uri": "https://localhost:8080/",
          "height": 68
        }
      },
      "source": [
        "#KNN\n",
        "neigh = KNeighborsClassifier(n_neighbors=3)\n",
        "neigh.fit(X_train, y_train) "
      ],
      "execution_count": 0,
      "outputs": [
        {
          "output_type": "execute_result",
          "data": {
            "text/plain": [
              "KNeighborsClassifier(algorithm='auto', leaf_size=30, metric='minkowski',\n",
              "                     metric_params=None, n_jobs=None, n_neighbors=3, p=2,\n",
              "                     weights='uniform')"
            ]
          },
          "metadata": {
            "tags": []
          },
          "execution_count": 59
        }
      ]
    },
    {
      "cell_type": "code",
      "metadata": {
        "id": "xAVhvJA2tiou",
        "colab_type": "code",
        "colab": {}
      },
      "source": [
        "y_pred = neigh.predict(X_test)"
      ],
      "execution_count": 0,
      "outputs": []
    },
    {
      "cell_type": "code",
      "metadata": {
        "id": "WIjqp9Tht5QO",
        "colab_type": "code",
        "outputId": "6e2e7ba9-07f8-4433-e81a-cc334e63f36c",
        "colab": {
          "base_uri": "https://localhost:8080/",
          "height": 85
        }
      },
      "source": [
        "print(\"Confusion Matrix:\")\n",
        "confusion_matrix(y_test, y_pred)"
      ],
      "execution_count": 0,
      "outputs": [
        {
          "output_type": "stream",
          "text": [
            "Confusion Matrix:\n"
          ],
          "name": "stdout"
        },
        {
          "output_type": "execute_result",
          "data": {
            "text/plain": [
              "array([[11,  0,  0],\n",
              "       [ 0, 12,  1],\n",
              "       [ 0,  0,  6]])"
            ]
          },
          "metadata": {
            "tags": []
          },
          "execution_count": 89
        }
      ]
    },
    {
      "cell_type": "code",
      "metadata": {
        "id": "2Tyls8Htt6p-",
        "colab_type": "code",
        "outputId": "ea830699-3438-44f1-e93b-bf679277fda6",
        "colab": {
          "base_uri": "https://localhost:8080/",
          "height": 51
        }
      },
      "source": [
        "print(\"Precision Recall Score:\")\n",
        "recall_score(y_test, y_pred, average='macro')"
      ],
      "execution_count": 0,
      "outputs": [
        {
          "output_type": "stream",
          "text": [
            "Precision Recall Score:\n"
          ],
          "name": "stdout"
        },
        {
          "output_type": "execute_result",
          "data": {
            "text/plain": [
              "0.9743589743589745"
            ]
          },
          "metadata": {
            "tags": []
          },
          "execution_count": 90
        }
      ]
    },
    {
      "cell_type": "code",
      "metadata": {
        "id": "N4kCC2yct8mO",
        "colab_type": "code",
        "outputId": "7299c7b9-2172-4f62-ac91-5e0d4588d01e",
        "colab": {
          "base_uri": "https://localhost:8080/",
          "height": 34
        }
      },
      "source": [
        "y_score = accuracy_score(y_test, y_pred)\n",
        "print(\"Accuracy:\",y_score)"
      ],
      "execution_count": 0,
      "outputs": [
        {
          "output_type": "stream",
          "text": [
            "Accuracy: 0.9666666666666667\n"
          ],
          "name": "stdout"
        }
      ]
    },
    {
      "cell_type": "code",
      "metadata": {
        "id": "rsqKRT__t-lu",
        "colab_type": "code",
        "outputId": "25d4bd06-16c7-4fb0-d76a-6739d9b7bae9",
        "colab": {
          "base_uri": "https://localhost:8080/",
          "height": 51
        }
      },
      "source": [
        "#Naive Bayes\n",
        "\n",
        "gnb = GaussianNB()\n",
        "gnb.fit(X_train,y_train)\n",
        "y_pred = gnb.predict(X_test)\n",
        "print(\"Predictions:\\n\",y_pred)"
      ],
      "execution_count": 0,
      "outputs": [
        {
          "output_type": "stream",
          "text": [
            "Predictions:\n",
            " [2 1 0 2 0 2 0 1 1 1 1 1 1 1 1 0 1 1 0 0 2 1 0 0 2 0 0 1 1 0]\n"
          ],
          "name": "stdout"
        }
      ]
    },
    {
      "cell_type": "code",
      "metadata": {
        "id": "P_jBANIxvWzP",
        "colab_type": "code",
        "outputId": "95980f3b-8a6b-4a14-d91c-b1175a6dc3d3",
        "colab": {
          "base_uri": "https://localhost:8080/",
          "height": 85
        }
      },
      "source": [
        "print(\"Confusion Matrix:\")\n",
        "confusion_matrix(y_test, y_pred)"
      ],
      "execution_count": 0,
      "outputs": [
        {
          "output_type": "stream",
          "text": [
            "Confusion Matrix:\n"
          ],
          "name": "stdout"
        },
        {
          "output_type": "execute_result",
          "data": {
            "text/plain": [
              "array([[11,  0,  0],\n",
              "       [ 0, 13,  0],\n",
              "       [ 0,  1,  5]])"
            ]
          },
          "metadata": {
            "tags": []
          },
          "execution_count": 93
        }
      ]
    },
    {
      "cell_type": "code",
      "metadata": {
        "id": "WYRecMikvZpP",
        "colab_type": "code",
        "outputId": "407e92be-a1a9-44ac-c6ac-a6e8d55f71c9",
        "colab": {
          "base_uri": "https://localhost:8080/",
          "height": 51
        }
      },
      "source": [
        "print(\"Precision Recall Score:\")\n",
        "recall_score(y_test, y_pred, average='macro')"
      ],
      "execution_count": 0,
      "outputs": [
        {
          "output_type": "stream",
          "text": [
            "Precision Recall Score:\n"
          ],
          "name": "stdout"
        },
        {
          "output_type": "execute_result",
          "data": {
            "text/plain": [
              "0.9444444444444445"
            ]
          },
          "metadata": {
            "tags": []
          },
          "execution_count": 94
        }
      ]
    },
    {
      "cell_type": "code",
      "metadata": {
        "id": "TVTJPgc-vbKP",
        "colab_type": "code",
        "outputId": "4a5c7c01-6d23-4953-af1d-4201d75b790b",
        "colab": {
          "base_uri": "https://localhost:8080/",
          "height": 34
        }
      },
      "source": [
        "y_score = accuracy_score(y_test, y_pred)\n",
        "print(\"Accuracy:\",y_score)"
      ],
      "execution_count": 0,
      "outputs": [
        {
          "output_type": "stream",
          "text": [
            "Accuracy: 0.9666666666666667\n"
          ],
          "name": "stdout"
        }
      ]
    },
    {
      "cell_type": "markdown",
      "metadata": {
        "id": "4iRCIyzvx0QO",
        "colab_type": "text"
      },
      "source": [
        "# Result"
      ]
    },
    {
      "cell_type": "markdown",
      "metadata": {
        "id": "GhA3ULSVxaQM",
        "colab_type": "text"
      },
      "source": [
        "**The accuracy scores for the three classifiers are:**\n",
        "\n",
        "**Naive Bayes  :** 0.9666666666666667\n",
        "\n",
        "**K-Nearest Neighbour:**0.9666666666666667\n",
        "\n",
        "**Decision Tree:**1"
      ]
    },
    {
      "cell_type": "markdown",
      "metadata": {
        "id": "nR_dTMzRyi4k",
        "colab_type": "text"
      },
      "source": [
        "So the best classifier for this dataset is **Decision Tree**"
      ]
    },
    {
      "cell_type": "code",
      "metadata": {
        "id": "gmboLDl9yqRa",
        "colab_type": "code",
        "colab": {}
      },
      "source": [
        ""
      ],
      "execution_count": 0,
      "outputs": []
    }
  ]
}